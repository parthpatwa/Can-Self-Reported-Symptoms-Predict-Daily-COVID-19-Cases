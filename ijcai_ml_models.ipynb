{
 "cells": [
  {
   "cell_type": "markdown",
   "metadata": {},
   "source": [
    "<h2>Import libraries </h2>"
   ]
  },
  {
   "cell_type": "code",
   "execution_count": 1,
   "metadata": {},
   "outputs": [],
   "source": [
    "import numpy as np\n",
    "import pandas as pd\n",
    "import glob\n",
    "from datetime import datetime\n",
    "import time\n",
    "from sklearn.preprocessing import MinMaxScaler\n",
    "\n",
    "from sklearn.feature_selection import SelectKBest, f_regression, mutual_info_regression\n",
    "from sklearn.model_selection import train_test_split\n",
    "from sklearn.metrics import f1_score, mean_squared_error,median_absolute_error,mean_absolute_error\n",
    "from sklearn.linear_model import LogisticRegression, LinearRegression\n",
    "from sklearn.ensemble import GradientBoostingClassifier, GradientBoostingRegressor\n",
    "from sklearn.svm import LinearSVC,LinearSVR\n",
    "from sklearn.tree import DecisionTreeClassifier,DecisionTreeRegressor\n",
    "from sklearn.neural_network import MLPRegressor, MLPClassifier\n",
    "import matplotlib.pyplot as plt\n",
    "from itertools import permutations\n",
    "import numpy as np\n",
    "from itertools import combinations \n",
    "%matplotlib inline\n",
    "import xgboost as xg\n",
    "\n",
    "import seaborn as sns\n",
    "sns.set()\n",
    "import numpy"
   ]
  },
  {
   "cell_type": "markdown",
   "metadata": {},
   "source": [
    "<h2> Load and split dataset </h2>"
   ]
  },
  {
   "cell_type": "code",
   "execution_count": 2,
   "metadata": {},
   "outputs": [
    {
     "name": "stdout",
     "output_type": "stream",
     "text": [
      "<class 'pandas.core.frame.DataFrame'>\n",
      "RangeIndex: 7178 entries, 0 to 7177\n",
      "Data columns (total 41 columns):\n",
      " #   Column                                               Non-Null Count  Dtype  \n",
      "---  ------                                               --------------  -----  \n",
      " 0   date                                                 7178 non-null   object \n",
      " 1   state_code                                           7178 non-null   object \n",
      " 2   gender                                               7178 non-null   object \n",
      " 3   age_bucket                                           7178 non-null   object \n",
      " 4   pct_hh_cli_weighted                                  7178 non-null   float64\n",
      " 5   pct_cmnty_cli_weighted                               7178 non-null   float64\n",
      " 6   pct_hh_fever_weighted                                7178 non-null   float64\n",
      " 7   pct_hh_sore_throat_weighted                          7178 non-null   float64\n",
      " 8   pct_hh_cough_weighted                                7178 non-null   float64\n",
      " 9   pct_hh_shortness_of_breath_weighted                  7178 non-null   float64\n",
      " 10  pct_hh_difficulty_breathing_weighted                 7178 non-null   float64\n",
      " 11  pct_self_fever_weighted                              7178 non-null   float64\n",
      " 12  pct_self_cough_weighted                              7178 non-null   float64\n",
      " 13  pct_self_shortness_of_breath_weighted                7178 non-null   float64\n",
      " 14  pct_self_difficulty_breathing_weighted               7178 non-null   float64\n",
      " 15  pct_self_tiredness_or_exhaustion_weighted            7178 non-null   float64\n",
      " 16  pct_self_nasal_congestion_weighted                   7178 non-null   float64\n",
      " 17  pct_self_runny_nose_weighted                         7178 non-null   float64\n",
      " 18  pct_self_muscle_joint_aches_weighted                 7178 non-null   float64\n",
      " 19  pct_self_sore_throat_weighted                        7178 non-null   float64\n",
      " 20  pct_self_persistent_pain_pressure_in_chest_weighted  7178 non-null   float64\n",
      " 21  pct_self_nausea_vomiting_weighted                    7178 non-null   float64\n",
      " 22  pct_self_diarrhea_weighted                           7178 non-null   float64\n",
      " 23  pct_self_anosmia_ageusia_weighted                    7178 non-null   float64\n",
      " 24  pct_self_other_weighted                              7178 non-null   float64\n",
      " 25  pct_self_none_of_above_weighted                      7178 non-null   float64\n",
      " 26  pct_self_multiple_symptoms_weighted                  7178 non-null   float64\n",
      " 27  pct_worked_outside_home_weighted                     7178 non-null   float64\n",
      " 28  pct_avoid_contact_all_or_most_time_weighted          7178 non-null   float64\n",
      " 29  pct_diabetes_weighted                                7178 non-null   float64\n",
      " 30  pct_cancer_weighted                                  7178 non-null   float64\n",
      " 31  pct_heart_disease_weighted                           7178 non-null   float64\n",
      " 32  pct_high_blood_pressure_weighted                     7178 non-null   float64\n",
      " 33  pct_asthma_weighted                                  7178 non-null   float64\n",
      " 34  pct_chronic_lung_disease_weighted                    7178 non-null   float64\n",
      " 35  pct_kidney_disease_weighted                          7178 non-null   float64\n",
      " 36  pct_autoimmune_disorder_weighted                     7178 non-null   float64\n",
      " 37  pct_no_above_medical_conditions_weighted             7178 non-null   float64\n",
      " 38  pct_multiple_medical_conditions_weighted             7178 non-null   float64\n",
      " 39  cases                                                7178 non-null   int64  \n",
      " 40  daily_case                                           7178 non-null   float64\n",
      "dtypes: float64(36), int64(1), object(4)\n",
      "memory usage: 2.2+ MB\n"
     ]
    }
   ],
   "source": [
    "merged = pd.read_csv('state_with_real_numbers.csv')\n",
    "merged.info()"
   ]
  },
  {
   "cell_type": "code",
   "execution_count": 3,
   "metadata": {},
   "outputs": [
    {
     "data": {
      "text/plain": [
       "35"
      ]
     },
     "execution_count": 3,
     "metadata": {},
     "output_type": "execute_result"
    }
   ],
   "source": [
    "features = ['pct_cmnty_cli_weighted', 'pct_self_anosmia_ageusia_weighted', 'pct_hh_cli_weighted', 'pct_hh_fever_weighted', 'pct_self_fever_weighted', 'pct_hh_sore_throat_weighted', 'pct_avoid_contact_all_or_most_time_weighted', 'pct_hh_difficulty_breathing_weighted', 'pct_self_persistent_pain_pressure_in_chest_weighted', 'pct_self_runny_nose_weighted', 'pct_worked_outside_home_weighted', 'pct_self_nausea_vomiting_weighted', 'pct_hh_shortness_of_breath_weighted', 'pct_self_sore_throat_weighted', 'pct_self_difficulty_breathing_weighted', 'pct_asthma_weighted', 'pct_self_shortness_of_breath_weighted', 'pct_hh_cough_weighted', 'pct_self_none_of_above_weighted', 'pct_self_diarrhea_weighted', 'pct_chronic_lung_disease_weighted', 'pct_cancer_weighted', 'pct_self_other_weighted', 'pct_self_tiredness_or_exhaustion_weighted', 'pct_self_cough_weighted', 'pct_no_above_medical_conditions_weighted', 'pct_heart_disease_weighted', 'pct_multiple_medical_conditions_weighted', 'pct_autoimmune_disorder_weighted', 'pct_self_nasal_congestion_weighted', 'pct_kidney_disease_weighted',  'pct_self_multiple_symptoms_weighted', 'pct_self_muscle_joint_aches_weighted', 'pct_high_blood_pressure_weighted', 'pct_diabetes_weighted',  ]\n",
    "len(features)"
   ]
  },
  {
   "cell_type": "code",
   "execution_count": 4,
   "metadata": {},
   "outputs": [
    {
     "name": "stdout",
     "output_type": "stream",
     "text": [
      "5742 1436\n"
     ]
    }
   ],
   "source": [
    "merged = merged.sort_values(by='date', ascending=True)\n",
    "X_train = merged[:len(merged)*80//100]\n",
    "X_test = merged[len(merged)*80//100:]\n",
    "X_train = X_train.sample(frac=1)\n",
    "y_train = X_train['daily_case']\n",
    "X_test = X_test.sample(frac=1)\n",
    "y_test = X_test['daily_case']\n",
    "print(len(X_train), len(y_test))"
   ]
  },
  {
   "cell_type": "markdown",
   "metadata": {},
   "source": [
    "<h2>Feature ranking </h2>"
   ]
  },
  {
   "cell_type": "code",
   "execution_count": 6,
   "metadata": {},
   "outputs": [
    {
     "name": "stdout",
     "output_type": "stream",
     "text": [
      "1 pct_cmnty_cli_weighted\n",
      "2 pct_self_anosmia_ageusia_weighted\n",
      "3 pct_hh_fever_weighted\n",
      "4 pct_hh_cli_weighted\n",
      "5 pct_hh_sore_throat_weighted\n",
      "6 pct_self_fever_weighted\n",
      "7 pct_asthma_weighted\n",
      "8 pct_autoimmune_disorder_weighted\n",
      "9 pct_self_runny_nose_weighted\n",
      "10 pct_self_sore_throat_weighted\n",
      "11 pct_avoid_contact_all_or_most_time_weighted\n",
      "12 pct_self_none_of_above_weighted\n",
      "13 pct_self_muscle_joint_aches_weighted\n",
      "14 pct_self_persistent_pain_pressure_in_chest_weighted\n",
      "15 pct_chronic_lung_disease_weighted\n",
      "16 pct_no_above_medical_conditions_weighted\n",
      "17 pct_self_nasal_congestion_weighted\n",
      "18 pct_self_multiple_symptoms_weighted\n",
      "19 pct_cancer_weighted\n",
      "20 pct_self_nausea_vomiting_weighted\n",
      "21 pct_multiple_medical_conditions_weighted\n",
      "22 pct_heart_disease_weighted\n",
      "23 pct_self_tiredness_or_exhaustion_weighted\n",
      "24 pct_diabetes_weighted\n",
      "25 pct_hh_difficulty_breathing_weighted\n",
      "26 pct_self_other_weighted\n",
      "27 pct_worked_outside_home_weighted\n",
      "28 pct_hh_shortness_of_breath_weighted\n",
      "29 pct_hh_cough_weighted\n",
      "30 pct_self_cough_weighted\n",
      "31 pct_self_shortness_of_breath_weighted\n",
      "32 pct_high_blood_pressure_weighted\n",
      "33 pct_self_diarrhea_weighted\n",
      "34 pct_self_difficulty_breathing_weighted\n",
      "35 pct_kidney_disease_weighted\n"
     ]
    }
   ],
   "source": [
    "features_ranked=[]\n",
    "features_copy=features.copy()\n",
    "i = 1\n",
    "for fr in (features):\n",
    "    X_reg_new = SelectKBest(score_func=f_regression, k=1).fit_transform(merged[features_copy],merged['daily_case'])\n",
    "    to_comp = np.squeeze(X_reg_new)\n",
    "    cols = features\n",
    "    for c in cols:\n",
    "        cur_col=np.array(merged[c])\n",
    "        if np.allclose(to_comp,cur_col):\n",
    "            selected_feature=c\n",
    "            features_ranked.append(selected_feature)\n",
    "            print(i,selected_feature)\n",
    "            features_copy.remove(selected_feature)\n",
    "            break\n",
    "    i +=1"
   ]
  },
  {
   "cell_type": "markdown",
   "metadata": {},
   "source": [
    "<h2> error metrics </h2>"
   ]
  },
  {
   "cell_type": "code",
   "execution_count": 7,
   "metadata": {},
   "outputs": [],
   "source": [
    "def get_mae (y_pred, y_true):\n",
    "    abs_sum = 0\n",
    "    for j in range(len(y_pred)):\n",
    "        diff=abs(y_pred[j]-y_true[j])\n",
    "        abs_sum += diff\n",
    "    abs_error = abs_sum/len(y_pred)\n",
    "    return abs_error\n",
    "\n",
    "def get_nmae (y_pred, y_true):\n",
    "    abs_sum = 0\n",
    "    for j in range(len(y_pred)):\n",
    "        diff=abs(y_pred[j]-y_true[j])\n",
    "        abs_sum += diff\n",
    "    n_abs_error = abs_sum/sum(y_true)\n",
    "    return n_abs_error\n",
    "\n",
    "def get_mre (y_pred, y_true):\n",
    "    rel_sum = 0\n",
    "    for j in range(len(y_pred)):\n",
    "        diff= y_pred[j]-y_true[j]\n",
    "        rel = diff/(y_true[j] +1)\n",
    "        rel_sum += abs(rel)\n",
    "    rel_error = rel_sum/len(y_pred)\n",
    "    return rel_error*100"
   ]
  },
  {
   "cell_type": "markdown",
   "metadata": {},
   "source": [
    "<h2>error vs number of features </h2>\n",
    "please note that the exact results of this code might vary slightly with the results reported in the paper due to random seed "
   ]
  },
  {
   "cell_type": "code",
   "execution_count": 35,
   "metadata": {},
   "outputs": [
    {
     "name": "stdout",
     "output_type": "stream",
     "text": [
      "1 839.6506985422628 1.0047033008303428 1154.311443622431\n"
     ]
    },
    {
     "name": "stderr",
     "output_type": "stream",
     "text": [
      "D:\\anaconda\\lib\\site-packages\\xgboost\\data.py:114: UserWarning: Use subset (sliced data) of np.ndarray is not recommended because it will generate extra copies and increase memory consumption\n",
      "  \"because it will generate extra copies and increase \" +\n"
     ]
    },
    {
     "name": "stdout",
     "output_type": "stream",
     "text": [
      "2 821.5805840941774 0.9830810909472414 1216.8416709232397\n",
      "3 739.2310843112201 0.8845439082862777 744.2193166830177\n",
      "4 691.9488556528656 0.8279672731615315 778.2804171781036\n",
      "5 688.7651734600327 0.8241577652155638 670.9023678816077\n",
      "6 665.4568860795489 0.7962676993720761 614.1107746695759\n",
      "7 666.2407178478238 0.7972056112516811 590.2444361780183\n",
      "8 646.2129016509047 0.773240868440888 563.1220477134434\n",
      "9 629.4675938049564 0.7532038862821725 686.9655920655018\n",
      "10 613.2754988890754 0.7338288637429337 696.3070977088529\n",
      "11 509.78219264322337 0.609991574523053 435.2306846882649\n",
      "12 503.8587755154932 0.6029037739045844 489.29297575227554\n",
      "13 492.57384799209143 0.5894005350552901 449.3337209487181\n",
      "14 496.24071002481793 0.59378820292047 404.0135105403575\n",
      "15 483.61735168390993 0.5786834339794171 459.2350638495364\n",
      "16 471.1548690877253 0.5637711646004175 459.52852763918185\n",
      "17 470.9813566814724 0.5635635443511878 398.82843047239857\n",
      "18 462.8654464665894 0.5538522658441941 467.59952919938206\n",
      "19 468.35984245085865 0.5604267113738033 408.39537474810726\n",
      "20 461.3294321736502 0.5520143127133056 387.6397532662609\n",
      "21 469.2684041380384 0.5615138716985696 421.2771018211721\n",
      "22 469.69747375088815 0.562027284784588 399.25273085783635\n",
      "23 473.45246007772874 0.5665203997950314 416.24270828647\n",
      "24 457.294930761405 0.5471867375167092 453.15514630370035\n",
      "25 458.5374952542043 0.548673556558934 457.52809425591926\n",
      "26 458.34135276004463 0.5484388577589956 480.51381596637543\n",
      "27 459.609061569432 0.5499557638099218 413.3414322625122\n",
      "28 458.0389397177523 0.5480769984973614 395.9702603283524\n",
      "29 452.67101178083743 0.541653881210374 423.0103861221511\n",
      "30 456.8556882787216 0.5466611518499752 402.9613098081386\n",
      "31 460.32340382919506 0.5508105264243668 404.05287894451527\n",
      "32 452.04519798287026 0.5409050493573018 420.38955846288565\n",
      "33 447.59884227679464 0.5355846604594949 423.1892167501776\n",
      "34 456.14852277507026 0.5458149767476554 418.6158853187922\n",
      "35 450.03936411556595 0.5385049228393382 369.25336801412595\n"
     ]
    }
   ],
   "source": [
    "xgb_rel_errors=[]\n",
    "xgb_abs_errors=[]\n",
    "xgb_n_abs_errors=[]\n",
    "for i in range(1,len(features_ranked)+1):\n",
    "    reg = xg.XGBRegressor(objective ='reg:squarederror',  max_depth=7, learning_rate=0.05, n_estimators=210, gamma=0.1, \n",
    "                        min_child_weight=3, subsample=0.8, colsample_bytree=0.8, reg_alpha=0.05)\n",
    "    reg = reg.fit(X_train[features_ranked[:i]],y_train)\n",
    "    y_pred= reg.predict(X_test[features_ranked[:i]])\n",
    "    yp_l=list(y_pred)\n",
    "    yt_l=list(y_test)\n",
    "    mae= get_mae(yp_l,yt_l)\n",
    "    nmae= get_nmae(yp_l,yt_l) \n",
    "    mre= get_mre(yp_l,yt_l) \n",
    "    xgb_rel_errors.append(mre)\n",
    "    xgb_abs_errors.append(mae)\n",
    "    xgb_n_abs_errors.append(nmae)\n",
    "    print(i,mae,nmae,mre)"
   ]
  },
  {
   "cell_type": "code",
   "execution_count": 75,
   "metadata": {},
   "outputs": [
    {
     "name": "stdout",
     "output_type": "stream",
     "text": [
      "1 825.5017767380015 0.9877730839382333 1149.8146897411316\n",
      "2 770.5943462967441 0.9220723387352362 967.1594331965543\n",
      "3 728.5938905578142 0.8718157301353239 938.4627771004842\n",
      "4 717.8846192130845 0.8590013058893632 898.5819157360924\n",
      "5 710.4974348361421 0.850162000997172 808.6071040413442\n",
      "6 700.837374027932 0.8386030336824535 709.6728514557517\n",
      "7 691.7236478221703 0.8276977955665444 713.1812024578674\n",
      "8 685.1965276466905 0.819887620220289 681.8651829864167\n",
      "9 678.0760771372329 0.8113674818548101 840.4557411256926\n",
      "10 674.3452908390333 0.8069033239436676 883.8960410349571\n",
      "11 546.5058846410775 0.6539341504453712 557.1211777678694\n",
      "12 534.5123126434273 0.639582966797569 560.7395427678524\n",
      "13 538.1566372479915 0.6439436669861826 642.5578324991883\n",
      "14 531.9857022817661 0.6365596932212111 609.7426789688309\n",
      "15 522.3178078718481 0.6249913524307045 583.6431913171369\n",
      "16 518.8582956888177 0.6208517937837721 619.4428396775604\n",
      "17 520.2269235367547 0.6224894568248651 572.682408079054\n",
      "18 518.0328969230524 0.6198641439599758 563.9290069094767\n",
      "19 521.9234648809775 0.6245194922806744 553.619427454708\n",
      "20 517.545905488308 0.6192814231895254 539.7746028743891\n",
      "21 517.6370628592018 0.6193904996323737 561.3649440628712\n",
      "22 516.4739862935149 0.6179987936924003 594.5149153267955\n",
      "23 523.3567125542046 0.6262344776557818 615.8601500060348\n",
      "24 511.23391028755196 0.6117286605656929 563.9586829686593\n",
      "25 507.90216168136243 0.6077419803569024 542.5267619849856\n",
      "26 511.13286371795397 0.6116077509753252 604.7744430675126\n",
      "27 512.0531475736556 0.6127089377296857 603.5685116979427\n",
      "28 508.1664107479639 0.6080581736381285 581.3127396394932\n",
      "29 506.0524200435845 0.6055286295761726 559.7423965449534\n",
      "30 507.89670541976807 0.6077354515419516 568.7960769269106\n",
      "31 507.88945304031756 0.6077267735409859 594.9503671122119\n",
      "32 501.6558704634713 0.6002678373406957 572.7974727246332\n",
      "33 505.0360555788613 0.6043124753654671 541.0371199462539\n",
      "34 496.5029098529609 0.594101944138419 522.9698929854751\n",
      "35 503.09534542940844 0.6019902741257189 559.6471243880803\n"
     ]
    }
   ],
   "source": [
    "gb_rel_errors=[]\n",
    "gb_abs_errors=[]\n",
    "gb_n_abs_errors=[]\n",
    "for i in range(1,len(features_ranked)+1):\n",
    "    reg = GradientBoostingRegressor()\n",
    "    reg = reg.fit(X_train[features_ranked[:i]],y_train)\n",
    "    y_pred= reg.predict(X_test[features_ranked[:i]])\n",
    "    yp_l=list(y_pred)\n",
    "    yt_l=list(y_test)\n",
    "    mae= get_mae(yp_l,yt_l)\n",
    "    nmae= get_nmae(yp_l,yt_l) \n",
    "    mre= get_mre(yp_l,yt_l) \n",
    "    gb_rel_errors.append(mre)\n",
    "    gb_abs_errors.append(mae)\n",
    "    gb_n_abs_errors.append(nmae)\n",
    "    print(i,mae,nmae,mre)    "
   ]
  },
  {
   "cell_type": "code",
   "execution_count": 37,
   "metadata": {},
   "outputs": [
    {
     "name": "stdout",
     "output_type": "stream",
     "text": [
      "1 804.9402683320102 0.9631697394743801 1197.0765128369715\n",
      "2 805.8390808862466 0.9642452342505256 1243.2468685259153\n",
      "3 811.3845806307964 0.9708808291565691 1304.135172314348\n",
      "4 811.8160154267578 0.9713970723566855 1308.7800877706013\n",
      "5 814.5592688385102 0.9746795751433642 1375.7636067488522\n",
      "6 812.8806368550705 0.9726709695439535 1362.8503061164552\n",
      "7 807.2112794978661 0.9658871699707988 1359.9227830456077\n",
      "8 813.7149065310597 0.9736692340588335 1450.8987192129853\n",
      "9 826.5974429726683 0.9890841285005606 1554.6557242620488\n",
      "10 825.5097281869024 0.9877825984267832 1532.3038105151752\n",
      "11 790.8188169669562 0.9462723929663419 1566.5932095532605\n",
      "12 800.3030520728621 0.9576209720043846 1739.2249821858275\n",
      "13 797.6490319854687 0.9544452433985448 1744.1275643339718\n",
      "14 798.0062709217685 0.9548727058410921 1745.9198815718305\n",
      "15 799.0261901081318 0.9560931135355041 1758.1464266330581\n",
      "16 801.6802163092345 0.9592688494568433 1762.3410278858792\n",
      "17 797.9514739464196 0.9548071372634632 1772.5318111574413\n",
      "18 797.4205735445695 0.954171876211365 1772.7227054054526\n",
      "19 797.8972733772338 0.9547422823293072 1770.2240057590923\n",
      "20 797.8395525437797 0.9546732151422037 1773.2301267128378\n",
      "21 797.8348030675977 0.9546675320475482 1773.8873767794025\n",
      "22 795.7282567211396 0.9521468957028003 1793.953080272499\n",
      "23 795.3058750523157 0.9516414852295949 1795.094446603437\n",
      "24 820.3311544109521 0.9815860572039583 1878.655349292473\n",
      "25 821.7299245049894 0.9832597876409388 1872.922860309554\n",
      "26 824.9888351222435 0.9871593118835205 1891.9578465395987\n",
      "27 829.0338938349435 0.991999519660109 1895.6157856392142\n",
      "28 827.5652706894462 0.990242204952316 1839.4407090138518\n",
      "29 839.9134107309463 1.0050176551250476 1833.5232275327446\n",
      "30 841.0365647515985 1.0063615908281311 1829.9609873324623\n",
      "31 841.3667243046315 1.006756650813562 1831.1276717708547\n",
      "32 825.0920519991436 0.9872828184048668 1774.801006457314\n",
      "33 825.0546457384362 0.9872380590857003 1773.9862431499216\n",
      "34 824.9178378705884 0.9870743584937222 1776.3652681849806\n",
      "35 826.0465350590342 0.9884249270013624 1777.6717948834782\n"
     ]
    }
   ],
   "source": [
    "lr_rel_errors=[]\n",
    "lr_abs_errors=[]\n",
    "lr_n_abs_errors=[]\n",
    "for i in range(1,len(features_ranked)+1):\n",
    "    reg = LinearRegression()\n",
    "    reg = reg.fit(X_train[features_ranked[:i]],y_train)\n",
    "    y_pred= reg.predict(X_test[features_ranked[:i]])\n",
    "    yp_l=list(y_pred)\n",
    "    yt_l=list(y_test)\n",
    "    mae= get_mae(yp_l,yt_l)\n",
    "    nmae= get_nmae(yp_l,yt_l) \n",
    "    mre= get_mre(yp_l,yt_l) \n",
    "    lr_rel_errors.append(mre)\n",
    "    lr_abs_errors.append(mae)\n",
    "    lr_n_abs_errors.append(nmae)\n",
    "    print(i,mae,nmae,mre)   "
   ]
  },
  {
   "cell_type": "code",
   "execution_count": 38,
   "metadata": {},
   "outputs": [
    {
     "name": "stdout",
     "output_type": "stream",
     "text": [
      "1 1043.6201253481895 1.2487675965382712 1108.935130218824\n",
      "2 985.9352367688023 1.1797434200987589 669.9520635831989\n",
      "3 956.9979108635098 1.1451177991057366 1110.7613782446508\n",
      "4 946.1044568245126 1.132082986832698 685.131847634139\n",
      "5 883.5633704735376 1.0572480155721136 835.4406649543165\n",
      "6 873.2694986072423 1.0449306470993105 765.9412648134762\n",
      "7 895.5069637883008 1.0715393960806403 776.2607945499839\n",
      "8 885.0271587743732 1.0589995450356389 709.4879775945566\n",
      "9 892.783426183844 1.0682804846953655 1366.3260638601048\n",
      "10 850.5313370473538 1.0177227783823601 1417.3425870522615\n",
      "11 608.7722841225627 0.7284404388322915 554.8243575061715\n",
      "12 611.1789693593315 0.7313202132499621 578.4968814108252\n",
      "13 597.6559888579387 0.715138980779839 564.5714170090897\n",
      "14 617.4798050139276 0.7388596226628914 546.5934194521338\n",
      "15 627.6176880222841 0.7509903390901046 514.8580271337212\n",
      "16 600.2541782729805 0.7182479039141934 512.2368993570784\n",
      "17 605.6462395543175 0.7246998985079502 448.81833583168617\n",
      "18 627.3488857938719 0.7506686976186865 465.6888071203986\n",
      "19 625.1775766016713 0.748070567805522 517.4082389375081\n",
      "20 608.9965181058495 0.7287087511478267 456.79609026681175\n",
      "21 643.1922005571031 0.7696263792669574 576.9409465053155\n",
      "22 632.5473537604457 0.7568890436915775 526.1889795557463\n",
      "23 646.4073816155989 0.7734735779030643 607.673636278923\n",
      "24 630.4993036211699 0.7544384023251512 637.632382360211\n",
      "25 629.5062674094708 0.7532501620706378 569.3827742127912\n",
      "26 622.016713091922 0.7442883640781472 667.5612145728753\n",
      "27 639.0675487465181 0.7646909325436174 501.1207562962201\n",
      "28 633.1072423398329 0.757558991212355 567.7109605980885\n",
      "29 632.408774373259 0.7567232233475044 661.2852645293246\n",
      "30 635.4575208913649 0.7603712709171115 497.4271832955315\n",
      "31 636.0188022284123 0.7610428849740104 538.7651581253034\n",
      "32 620.183147632312 0.7420943692744069 668.4847309606889\n",
      "33 626.965877437326 0.7502104001853188 630.8777479021991\n",
      "34 620.9616991643454 0.7430259629662344 616.8167572252393\n",
      "35 615.9846796657382 0.737070596136636 641.362293806514\n"
     ]
    }
   ],
   "source": [
    "dt_rel_errors=[]\n",
    "dt_abs_errors=[]\n",
    "dt_n_abs_errors=[]\n",
    "for i in range(1,len(features_ranked)+1):\n",
    "    reg = DecisionTreeRegressor()\n",
    "    reg = reg.fit(X_train[features_ranked[:i]],y_train)\n",
    "    y_pred= reg.predict(X_test[features_ranked[:i]])\n",
    "    yp_l=list(y_pred)\n",
    "    yt_l=list(y_test)\n",
    "    mae= get_mae(yp_l,yt_l)\n",
    "    nmae= get_nmae(yp_l,yt_l) \n",
    "    mre= get_mre(yp_l,yt_l) \n",
    "    dt_rel_errors.append(mre)\n",
    "    dt_abs_errors.append(mae)\n",
    "    dt_n_abs_errors.append(nmae)\n",
    "    print(i,mae,nmae,mre)   "
   ]
  },
  {
   "cell_type": "code",
   "execution_count": 39,
   "metadata": {},
   "outputs": [
    {
     "name": "stdout",
     "output_type": "stream",
     "text": [
      "1 810.6548840989103 0.9700076940356632 1161.6358878695394\n",
      "2 790.8214817491541 0.946275581572598 1136.375512387528\n",
      "3 690.1194883763716 0.8257783017900845 817.4769583042658\n",
      "4 676.6441837511783 0.8096541169830797 794.2809858089124\n",
      "5 682.2472458921393 0.8163585894947496 705.391316645608\n",
      "6 678.1250633407434 0.811426097420125 699.8992859156064\n",
      "7 689.6004421962297 0.8251572251788492 838.5093013962779\n",
      "8 652.8548650396191 0.7811884620678822 594.1153077537948\n",
      "9 628.3889749905829 0.7519132402015818 677.2560064803463\n",
      "10 653.1351031819885 0.7815237874444297 834.7662308225164\n",
      "11 564.1782373425159 0.6750804093878087 788.6292192534643\n",
      "12 598.503759872701 0.7161534006312829 453.21896071870685\n"
     ]
    },
    {
     "name": "stderr",
     "output_type": "stream",
     "text": [
      "D:\\anaconda\\lib\\site-packages\\sklearn\\neural_network\\multilayer_perceptron.py:562: ConvergenceWarning: Stochastic Optimizer: Maximum iterations (1000) reached and the optimization hasn't converged yet.\n",
      "  % self.max_iter, ConvergenceWarning)\n"
     ]
    },
    {
     "name": "stdout",
     "output_type": "stream",
     "text": [
      "13 588.1506519016356 0.7037651518387299 705.803122703402\n",
      "14 549.9868209980639 0.6580993446790165 657.7778077439552\n",
      "15 560.7888032654021 0.6710247043057606 662.8139178422662\n",
      "16 546.2840136855169 0.6536686656648582 531.4332805146374\n",
      "17 613.238328341541 0.7337843864717705 797.1580760763464\n",
      "18 575.5731404929039 0.6887152420958775 782.991722407813\n",
      "19 602.6281777065394 0.7210885673843804 624.2117258114588\n",
      "20 562.1259226689298 0.6726246651950457 669.1547430983144\n",
      "21 548.0392230582829 0.6557689016957791 753.9402678151108\n",
      "22 639.279503669042 0.764944552067375 770.8175653252638\n",
      "23 586.6734301382553 0.7019975482574987 634.2749470685864\n",
      "24 612.9455228251697 0.7334340233156268 942.8398908189794\n",
      "25 599.3688371486593 0.7171885286864819 726.6023475155616\n",
      "26 561.496491780226 0.6718715052290942 854.1164949871343\n",
      "27 563.912298371578 0.6747621940127907 1037.9173611581386\n",
      "28 549.6333733546148 0.6576764187948835 798.2300966920582\n",
      "29 542.7841182911277 0.6494807855601806 832.542130951371\n",
      "30 557.8188963803501 0.6674709941072805 722.9254119892291\n",
      "31 557.8879558611603 0.6675536288129316 600.862077003132\n",
      "32 549.6841963768513 0.6577372322477727 798.8886681204028\n",
      "33 549.0588223083482 0.656988926563076 841.5477442789456\n",
      "34 536.010257524724 0.6413753671008302 841.0260833109007\n",
      "35 529.6339085451611 0.6337456004870047 751.1841822190639\n"
     ]
    }
   ],
   "source": [
    "mlp_rel_errors=[]\n",
    "mlp_abs_errors=[]\n",
    "mlp_n_abs_errors=[]\n",
    "for i in range(1,len(features_ranked)+1):\n",
    "    reg = MLPRegressor((100,50), max_iter=1000)\n",
    "    reg = reg.fit(X_train[features_ranked[:i]],y_train)\n",
    "    y_pred= reg.predict(X_test[features_ranked[:i]])\n",
    "    yp_l=list(y_pred)\n",
    "    yt_l=list(y_test)\n",
    "    mae= get_mae(yp_l,yt_l)\n",
    "    nmae= get_nmae(yp_l,yt_l) \n",
    "    mre= get_mre(yp_l,yt_l) \n",
    "    mlp_rel_errors.append(mre)\n",
    "    mlp_abs_errors.append(mae)\n",
    "    mlp_n_abs_errors.append(nmae)\n",
    "    print(i,mae,nmae,mre)   "
   ]
  },
  {
   "cell_type": "code",
   "execution_count": 97,
   "metadata": {},
   "outputs": [
    {
     "data": {
      "image/png": "[encoded data removed]",
      "text/plain": [
       "<Figure size 432x288 with 1 Axes>"
      ]
     },
     "metadata": {},
     "output_type": "display_data"
    }
   ],
   "source": [
    "plt.plot(range(1,len(features_ranked)+1),xgb_abs_errors)\n",
    "plt.xlabel('Number of features')\n",
    "plt.ylabel('Mean absolute error')\n",
    "plt.title('xgboost')\n",
    "plt.show()"
   ]
  },
  {
   "cell_type": "code",
   "execution_count": 98,
   "metadata": {},
   "outputs": [
    {
     "data": {
      "image/png": "[encoded data removed]",
      "text/plain": [
       "<Figure size 432x288 with 1 Axes>"
      ]
     },
     "metadata": {},
     "output_type": "display_data"
    }
   ],
   "source": [
    "plt.plot(range(1,len(features_ranked)+1),xgb_n_abs_errors)\n",
    "plt.xlabel('Number of Features')\n",
    "plt.ylabel('Normalized Mean Absolute Error')\n",
    "plt.title('xgboost')\n",
    "plt.show()"
   ]
  },
  {
   "cell_type": "markdown",
   "metadata": {},
   "source": [
    "<h2> mre vs daily cases </h2>"
   ]
  },
  {
   "cell_type": "code",
   "execution_count": 42,
   "metadata": {},
   "outputs": [
    {
     "name": "stdout",
     "output_type": "stream",
     "text": [
      "\n",
      "35 502.55702986263617 62.80271478685905 1089\n"
     ]
    }
   ],
   "source": [
    "reg = GradientBoostingRegressor()\n",
    "reg = reg.fit(X_train[features_ranked],y_train)\n",
    "y_pred= reg.predict(X_test[features_ranked])\n",
    "yp_l=list(y_pred)\n",
    "yt_l=list(y_test)\n",
    "pct_sm=0\n",
    "abs_sum = 0\n",
    "pct_count = 0\n",
    "for j in range(len(y_pred)):\n",
    "    diff=abs(yp_l[j]-yt_l[j])\n",
    "    abs_sum += diff\n",
    "    pct= diff/(yt_l[j]+1)\n",
    "    #pct_sm+= pct\n",
    "    if yt_l[j] > 150:\n",
    "       # print(yp_l[j],yt_l[j], pct*100)\n",
    "        pct_sm+= pct\n",
    "        pct_count +=1 \n",
    "print()\n",
    "rel_error=pct_sm/pct_count\n",
    "abs_error = abs_sum/len(y_pred)\n",
    "print(i,abs_error,rel_error*100, pct_count)"
   ]
  },
  {
   "cell_type": "code",
   "execution_count": 43,
   "metadata": {},
   "outputs": [
    {
     "name": "stdout",
     "output_type": "stream",
     "text": [
      "\n",
      "35 450.03936411556595 49.65116035483217 1089\n"
     ]
    },
    {
     "name": "stderr",
     "output_type": "stream",
     "text": [
      "D:\\anaconda\\lib\\site-packages\\xgboost\\data.py:114: UserWarning: Use subset (sliced data) of np.ndarray is not recommended because it will generate extra copies and increase memory consumption\n",
      "  \"because it will generate extra copies and increase \" +\n"
     ]
    }
   ],
   "source": [
    "reg = xg.XGBRegressor(objective ='reg:squarederror',  max_depth=7, learning_rate=0.05, n_estimators=210, gamma=0.1, \n",
    "                        min_child_weight=3, subsample=0.8, colsample_bytree=0.8, reg_alpha=0.05)\n",
    "reg = reg.fit(X_train[features_ranked],y_train)\n",
    "y_pred= reg.predict(X_test[features_ranked])\n",
    "yp_l=list(y_pred)\n",
    "yt_l=list(y_test)\n",
    "pct_sm=0\n",
    "abs_sum = 0\n",
    "pct_count = 0\n",
    "for j in range(len(y_pred)):\n",
    "    diff=abs(yp_l[j]-yt_l[j])\n",
    "    abs_sum += diff\n",
    "    pct= diff/(yt_l[j]+1)\n",
    "    #pct_sm+= pct\n",
    "    if yt_l[j] > 150:\n",
    "       # print(yp_l[j],yt_l[j], pct*100)\n",
    "        pct_sm+= pct\n",
    "        pct_count +=1 \n",
    "print()\n",
    "rel_error=pct_sm/pct_count\n",
    "abs_error = abs_sum/len(y_pred)\n",
    "print(i,abs_error,rel_error*100, pct_count)"
   ]
  },
  {
   "cell_type": "markdown",
   "metadata": {},
   "source": [
    "<h2> Most important global features </h2>"
   ]
  },
  {
   "cell_type": "code",
   "execution_count": 44,
   "metadata": {},
   "outputs": [
    {
     "name": "stdout",
     "output_type": "stream",
     "text": [
      "global gdbt pct_cmnty_cli_weighted 0.24279134738350985\n",
      "global gdbt pct_self_anosmia_ageusia_weighted 0.02799137965178346\n",
      "global gdbt pct_hh_fever_weighted 0.008864972439876509\n",
      "global gdbt pct_hh_cli_weighted 0.008338545920196226\n",
      "global gdbt pct_hh_sore_throat_weighted 0.01347782775984682\n",
      "global gdbt pct_self_fever_weighted 0.005106168582290201\n",
      "global gdbt pct_asthma_weighted 0.00725685369109223\n",
      "global gdbt pct_autoimmune_disorder_weighted 0.014039518811556805\n",
      "global gdbt pct_self_runny_nose_weighted 0.05563226297090317\n",
      "global gdbt pct_self_sore_throat_weighted 0.0052945398993197255\n",
      "global gdbt pct_avoid_contact_all_or_most_time_weighted 0.3164417614690507\n",
      "global gdbt pct_self_none_of_above_weighted 0.05501662312719128\n",
      "global gdbt pct_self_muscle_joint_aches_weighted 0.011304374337720845\n",
      "global gdbt pct_self_persistent_pain_pressure_in_chest_weighted 0.005562949381844741\n",
      "global gdbt pct_chronic_lung_disease_weighted 0.0016760152790766222\n",
      "global gdbt pct_no_above_medical_conditions_weighted 0.005217768770170792\n",
      "global gdbt pct_self_nasal_congestion_weighted 0.014360696265299908\n",
      "global gdbt pct_self_multiple_symptoms_weighted 0.0018121672854254835\n",
      "global gdbt pct_cancer_weighted 0.0013018062671470638\n",
      "global gdbt pct_self_nausea_vomiting_weighted 0.0037328595509684586\n",
      "global gdbt pct_multiple_medical_conditions_weighted 0.018847603670105656\n",
      "global gdbt pct_heart_disease_weighted 0.003823488512646436\n",
      "global gdbt pct_self_tiredness_or_exhaustion_weighted 0.003744802916209119\n",
      "global gdbt pct_diabetes_weighted 0.007770953936029569\n",
      "global gdbt pct_hh_difficulty_breathing_weighted 0.0013647479361515286\n",
      "global gdbt pct_self_other_weighted 0.005836340839004084\n",
      "global gdbt pct_worked_outside_home_weighted 0.11111597308589144\n",
      "global gdbt pct_hh_shortness_of_breath_weighted 0.0007302394331948271\n",
      "global gdbt pct_hh_cough_weighted 0.0007507167436835804\n",
      "global gdbt pct_self_cough_weighted 0.0017730239023440097\n",
      "global gdbt pct_self_shortness_of_breath_weighted 0.002275874987103157\n",
      "global gdbt pct_high_blood_pressure_weighted 0.021319857374059562\n",
      "global gdbt pct_self_diarrhea_weighted 0.0019276802895457853\n",
      "global gdbt pct_self_difficulty_breathing_weighted 0.005782305517435238\n",
      "global gdbt pct_kidney_disease_weighted 0.007715952012325348\n"
     ]
    }
   ],
   "source": [
    "reg = GradientBoostingRegressor()\n",
    "reg = reg.fit(X_train[features_ranked],y_train)\n",
    "for i in range(len(features_ranked)):\n",
    "    print ('global gdbt',features_ranked[i], list(reg.feature_importances_)[i] )"
   ]
  },
  {
   "cell_type": "code",
   "execution_count": 45,
   "metadata": {},
   "outputs": [
    {
     "name": "stdout",
     "output_type": "stream",
     "text": [
      "global xgb pct_cmnty_cli_weighted 0.12272348\n",
      "global xgb pct_self_anosmia_ageusia_weighted 0.028962309\n",
      "global xgb pct_hh_fever_weighted 0.021700168\n",
      "global xgb pct_hh_cli_weighted 0.021387376\n",
      "global xgb pct_hh_sore_throat_weighted 0.056227427\n",
      "global xgb pct_self_fever_weighted 0.010426154\n",
      "global xgb pct_asthma_weighted 0.033097126\n",
      "global xgb pct_autoimmune_disorder_weighted 0.018523451\n",
      "global xgb pct_self_runny_nose_weighted 0.0503743\n",
      "global xgb pct_self_sore_throat_weighted 0.028152106\n",
      "global xgb pct_avoid_contact_all_or_most_time_weighted 0.12757744\n",
      "global xgb pct_self_none_of_above_weighted 0.030564941\n",
      "global xgb pct_self_muscle_joint_aches_weighted 0.023191\n",
      "global xgb pct_self_persistent_pain_pressure_in_chest_weighted 0.007295914\n",
      "global xgb pct_chronic_lung_disease_weighted 0.010710613\n",
      "global xgb pct_no_above_medical_conditions_weighted 0.015218474\n",
      "global xgb pct_self_nasal_congestion_weighted 0.026714787\n",
      "global xgb pct_self_multiple_symptoms_weighted 0.013946476\n",
      "global xgb pct_cancer_weighted 0.0069349934\n",
      "global xgb pct_self_nausea_vomiting_weighted 0.00937462\n",
      "global xgb pct_multiple_medical_conditions_weighted 0.018444663\n",
      "global xgb pct_heart_disease_weighted 0.015072164\n",
      "global xgb pct_self_tiredness_or_exhaustion_weighted 0.011112894\n",
      "global xgb pct_diabetes_weighted 0.014921798\n",
      "global xgb pct_hh_difficulty_breathing_weighted 0.008118132\n",
      "global xgb pct_self_other_weighted 0.014715087\n",
      "global xgb pct_worked_outside_home_weighted 0.10738589\n",
      "global xgb pct_hh_shortness_of_breath_weighted 0.014725935\n",
      "global xgb pct_hh_cough_weighted 0.0104992\n",
      "global xgb pct_self_cough_weighted 0.012281701\n",
      "global xgb pct_self_shortness_of_breath_weighted 0.009190955\n",
      "global xgb pct_high_blood_pressure_weighted 0.06652331\n",
      "global xgb pct_self_diarrhea_weighted 0.0126116965\n",
      "global xgb pct_self_difficulty_breathing_weighted 0.012596135\n",
      "global xgb pct_kidney_disease_weighted 0.0086972555\n"
     ]
    }
   ],
   "source": [
    "reg = xg.XGBRegressor(objective ='reg:squarederror',  max_depth=7, learning_rate=0.05, n_estimators=210, gamma=0.1, \n",
    "                        min_child_weight=3, subsample=0.8, colsample_bytree=0.8, reg_alpha=0.05)\n",
    "reg = reg.fit(X_train[features_ranked],y_train)\n",
    "for i in range(len(features_ranked)):\n",
    "    print ('global xgb',features_ranked[i], list(reg.feature_importances_)[i] )"
   ]
  },
  {
   "cell_type": "markdown",
   "metadata": {},
   "source": [
    "<h2> Statewise prediction of global models </h2>"
   ]
  },
  {
   "cell_type": "code",
   "execution_count": 46,
   "metadata": {},
   "outputs": [],
   "source": [
    "states = list(merged['state_code'].unique())\n",
    "#states"
   ]
  },
  {
   "cell_type": "code",
   "execution_count": 47,
   "metadata": {},
   "outputs": [
    {
     "name": "stdout",
     "output_type": "stream",
     "text": [
      "global gdbt 502.4860622715973 0.6012612223892576 555.5749848885039\n",
      "ak 256.43991585131573 3.4728142560049884 573.5363948193145\n",
      "ny 247.31496482010814 0.3758586091491005 36.78138975950135\n",
      "oh 460.7089428565705 0.44378590693864356 41.757424520282655\n",
      "ok 290.93729714176345 0.4061101300136285 39.53872660690578\n",
      "co 136.91995136968413 0.40910191477024666 45.83541436679684\n",
      "or 134.00819710664214 0.5675908390793822 61.61540053523083\n",
      "pa 207.6470688386389 0.2847210596992169 26.98495681939551\n",
      "ri 238.61040049013673 2.5081681901556068 5359.055332450023\n",
      "ca 4277.337815092355 0.6013497982667118 58.46448890100796\n",
      "sc 412.3008412693658 0.48557395038201123 58.75126718943243\n",
      "nv 306.665319853542 0.5790872786307206 72.29939274697269\n",
      "sd 380.12306730566655 1.9668320143446012 242.6950448335064\n",
      "az 626.2663572873798 0.8744165776352304 125.70203806599041\n",
      "tx 3133.674897346246 0.5874355417276682 56.864835215149554\n",
      "ut 186.1567496004128 0.49448401700127365 51.80933764487096\n",
      "va 394.98295153621063 0.3880481554675328 33.9141012146009\n",
      "ar 357.0416812454124 0.6650776415355721 74.8241727532141\n",
      "vt 200.74961432988965 30.884556050752256 3966.4439117680736\n",
      "wa 197.1992786452462 0.37442901008591056 45.98275145680531\n",
      "wi 309.3240248342657 0.405316477179645 39.92549383104528\n",
      "al 429.83317927525275 0.3916757184897512 42.55561593064407\n",
      "tn 671.5351653184672 0.4642803963761526 43.396310946992585\n",
      "nm 383.33784647460067 2.9746858236518414 332.0971957430571\n",
      "nj 149.47335755583933 0.4564536570312683 152.83469323438996\n",
      "de 224.3176513714279 2.462323286184719 643.8865384202231\n",
      "id 252.78623360212032 0.7847254768277742 98.77421250253352\n",
      "in 403.00753914242136 0.45035484520124563 44.59904107264674\n",
      "ks 492.0769722709875 0.8822272854915212 275.01905696293824\n",
      "ky 320.63967653703133 0.46783669549686013 54.70131328314511\n",
      "ia 313.9542393112263 0.4286159078102794 45.16862219136039\n",
      "la 475.51500239441066 0.6253485039379414 7286.129369106753\n",
      "ma 419.8135300504352 6.552760614731038 971.8541954657218\n",
      "md 262.0375125789909 0.44491059920593856 45.88164354317873\n",
      "me 264.44577118824964 11.823208845972413 1537.3978612590945\n",
      "hi 508.13671990693564 2.290623831285961 235.65478674806735\n",
      "mi 304.39339783423856 0.41228958124642906 68.16572111604427\n",
      "mn 365.817192510571 0.5296325358485174 59.98351586961863\n",
      "mo 527.2544046434544 0.4257889078926386 41.044289016267896\n",
      "ga 813.7592738963226 0.35619852367173466 38.82382053140955\n",
      "ms 429.6787474690278 0.6379472643804234 78.56914948771858\n",
      "mt 160.17885992058834 1.390039281925846 154.46274610997295\n",
      "nc 515.5513614186535 0.36052542756549194 34.14993156545707\n",
      "fl 2354.824894219746 0.6023288954060364 57.243022598952834\n",
      "nd 232.28872449928238 1.1103667519086156 149.11307581249056\n",
      "ne 280.968895810985 1.0477398227880113 140.4647671113163\n",
      "nh 210.15405408222972 9.509233216390484 1009.6350549310561\n",
      "wv 182.14682331102804 1.3774652632545603 165.38336667352354\n",
      "wy 173.42539668266784 4.940894492383699 1389.703544995926\n",
      "il 1024.7095206005067 0.5181231985777524 48.31159200432335\n",
      "dc 358.97125705149847 6.6930625926320415 670.7705685901427\n"
     ]
    }
   ],
   "source": [
    "reg = GradientBoostingRegressor()\n",
    "reg = reg.fit(X_train[features_ranked],y_train)\n",
    "\n",
    "y_pred= reg.predict(X_test[features_ranked])\n",
    "yp_l=list(y_pred)\n",
    "yt_l=list(X_test['daily_case'])\n",
    "mae= get_mae(yp_l,yt_l)\n",
    "nmae= get_nmae(yp_l,yt_l) \n",
    "mre= get_mre(yp_l,yt_l) \n",
    "print('global gdbt',mae,nmae,mre) \n",
    "\n",
    "for state in states:\n",
    "    y_pred= reg.predict(X_test[X_test['state_code'] == state][features_ranked])\n",
    "    yp_l=list(y_pred)\n",
    "    yt_l=list(X_test[X_test['state_code'] == state]['daily_case'])\n",
    "    mae= get_mae(yp_l,yt_l)\n",
    "    nmae= get_nmae(yp_l,yt_l) \n",
    "    mre= get_mre(yp_l,yt_l) \n",
    "    print(state,mae,nmae,mre) \n"
   ]
  },
  {
   "cell_type": "code",
   "execution_count": 48,
   "metadata": {},
   "outputs": [
    {
     "name": "stderr",
     "output_type": "stream",
     "text": [
      "D:\\anaconda\\lib\\site-packages\\xgboost\\data.py:114: UserWarning: Use subset (sliced data) of np.ndarray is not recommended because it will generate extra copies and increase memory consumption\n",
      "  \"because it will generate extra copies and increase \" +\n"
     ]
    },
    {
     "name": "stdout",
     "output_type": "stream",
     "text": [
      "global xgb 450.03936411556595 0.5385049228393382 369.25336801412595\n",
      "ak 170.19358042666786 2.3048310962984244 382.6504025976834\n",
      "ny 203.06969350179037 0.30861655547384553 29.848658027535897\n",
      "oh 412.3603983561198 0.39721333003736176 37.909094807007286\n",
      "ok 270.528657023112 0.37762235765370183 38.19984616668295\n",
      "co 153.50168599580465 0.4586463333732172 45.41281210032025\n",
      "or 92.75661087036133 0.39287001639289 41.14943776096266\n",
      "pa 173.29476013183594 0.23761793518694083 22.91169270799382\n",
      "ri 110.32696917851766 1.1597088561161633 2725.531472260159\n",
      "ca 4081.316162109375 0.5737911656374866 56.090208749709134\n",
      "sc 306.18723958333334 0.36060209584658265 37.32585562402277\n",
      "nv 255.6242327372233 0.4827045371760999 54.39148024773826\n",
      "sd 214.76106386184694 1.1112162669636785 130.56905676815782\n",
      "az 560.1771770276522 0.7821403853266748 110.59547982666507\n",
      "tx 3056.0815673828124 0.5728899742024206 55.78066681393506\n",
      "ut 136.2305803934733 0.3618662486102532 34.67831308919659\n",
      "va 394.1976771200857 0.387276668274154 34.51122315260864\n",
      "ar 325.83025480571547 0.6069387099322151 65.48376660469137\n",
      "vt 76.7406514485677 11.806254069010416 1493.5413266110688\n",
      "wa 184.1371602376302 0.34962751943853837 43.225246254304565\n",
      "wi 289.9907418568929 0.3799835010136181 34.65380462519532\n",
      "al 428.98524555407073 0.3909030581519996 42.32434007549137\n",
      "tn 679.9075887044271 0.4700688528100298 43.6607748644661\n",
      "nm 216.36345570882162 1.6789714617859928 206.81688756547322\n",
      "nj 126.55263563791911 0.3864595957998344 94.80930592503553\n",
      "de 159.67719458142918 1.7527683269092114 381.2711487642521\n",
      "id 164.54449208577475 0.5107962295709066 62.85772432499835\n",
      "in 361.3093495686849 0.4037577474134153 39.12792700935693\n",
      "ks 465.2558217366537 0.8341405995398081 791.9263779718862\n",
      "ky 317.0475011189779 0.46259544932490326 59.95930300921781\n",
      "ia 362.3588345435358 0.49469872157702954 44.18935810375393\n",
      "la 456.54072723388674 0.6003954855784939 7367.667020189488\n",
      "ma 385.98636093139646 6.024761096743962 294.9507783078627\n",
      "md 234.92546819051105 0.3988773584082479 40.14479832591229\n",
      "me 156.80478981335958 7.0106463403886545 851.1277381447463\n",
      "hi 243.11379878520967 1.0959299719844162 107.37259817201279\n",
      "mi 282.2139455159505 0.3822483347094007 78.90601959118932\n",
      "mn 321.7623448689779 0.465849637858662 49.23661542440009\n",
      "mo 590.3563944498698 0.47674747189685035 46.5697360833698\n",
      "ga 929.6405049641927 0.4069220296909083 42.48287405328428\n",
      "ms 344.8856943766276 0.5120543814361491 70.05541803634308\n",
      "mt 151.8091149965922 1.3174062626259087 153.94958930669662\n",
      "nc 481.53155110677085 0.3367353504243153 32.44958724459471\n",
      "fl 2451.172334798177 0.6269731258969128 59.74566307904096\n",
      "nd 185.6002407391866 0.8871904433039512 120.4199503892574\n",
      "ne 160.547847366333 0.5986868142933487 75.76565454428496\n",
      "nh 97.46204185883204 4.410047142933577 456.4335174896194\n",
      "wv 144.596529006958 1.0934953038086062 126.38196017178423\n",
      "wy 77.29747138023376 2.202207161830022 405.40561554177856\n",
      "il 1043.2385528564453 0.5274920209278865 49.2458294815597\n",
      "dc 125.20582091808319 2.3344777051227443 260.1948105641921\n"
     ]
    }
   ],
   "source": [
    "reg = xg.XGBRegressor(objective ='reg:squarederror',  max_depth=7, learning_rate=0.05, n_estimators=210, gamma=0.1, \n",
    "                        min_child_weight=3, subsample=0.8, colsample_bytree=0.8, reg_alpha=0.05)\n",
    "reg = reg.fit(X_train[features_ranked],y_train)\n",
    "\n",
    "y_pred= reg.predict(X_test[features_ranked])\n",
    "yp_l=list(y_pred)\n",
    "yt_l=list(X_test['daily_case'])\n",
    "mae= get_mae(yp_l,yt_l)\n",
    "nmae= get_nmae(yp_l,yt_l) \n",
    "mre= get_mre(yp_l,yt_l) \n",
    "print('global xgb',mae,nmae,mre) \n",
    "\n",
    "for state in states:\n",
    "    y_pred= reg.predict(X_test[X_test['state_code'] == state][features_ranked])\n",
    "    yp_l=list(y_pred)\n",
    "    yt_l=list(X_test[X_test['state_code'] == state]['daily_case'])\n",
    "    mae= get_mae(yp_l,yt_l)\n",
    "    nmae= get_nmae(yp_l,yt_l) \n",
    "    mre= get_mre(yp_l,yt_l) \n",
    "    print(state,mae,nmae,mre) \n"
   ]
  },
  {
   "cell_type": "markdown",
   "metadata": {},
   "source": [
    "<h2>Confidence interval </h2>"
   ]
  },
  {
   "cell_type": "code",
   "execution_count": 49,
   "metadata": {},
   "outputs": [],
   "source": [
    "import numpy as np\n",
    "import scipy.stats\n",
    "\n",
    "\n",
    "def mean_confidence_interval(data, confidence=0.95):\n",
    "    a = 1.0 * np.array(data)\n",
    "    n = len(a)\n",
    "    m, se = np.mean(a), scipy.stats.sem(a)\n",
    "    h = se * scipy.stats.t.ppf((1 + confidence) / 2., n-1)\n",
    "    return m, m-h, m+h, se"
   ]
  },
  {
   "cell_type": "code",
   "execution_count": 50,
   "metadata": {},
   "outputs": [
    {
     "name": "stdout",
     "output_type": "stream",
     "text": [
      "(558.8348111663288, 557.5450971709921, 560.1245251616655, 0.6161964515507473)\n",
      "(502.7252996085509, 502.5394300385474, 502.9111691785545, 0.08880431622946888)\n",
      "(0.6015474873117266, 0.601325080814798, 0.6017698938086552, 0.00010626084132202428)\n"
     ]
    }
   ],
   "source": [
    "rel_errors = []\n",
    "abs_errors = []\n",
    "n_abs_errors = []\n",
    "for rv in range(20):\n",
    "    X_train = X_train.sample(frac=1, random_state=rv)\n",
    "    y_train = X_train['daily_case']\n",
    "    \n",
    "    reg = GradientBoostingRegressor(random_state=rv)\n",
    "    reg = reg.fit(X_train[features_ranked],y_train)\n",
    "    y_pred= reg.predict(X_test[features_ranked])\n",
    "    yp_l=list(y_pred)\n",
    "    yt_l=list(y_test)\n",
    "    mae= get_mae(yp_l,yt_l)\n",
    "    nmae= get_nmae(yp_l,yt_l) \n",
    "    mre= get_mre(yp_l,yt_l) \n",
    "    rel_errors.append(mre)\n",
    "    abs_errors.append(mae)\n",
    "    n_abs_errors.append(nmae)\n",
    "\n",
    "print (mean_confidence_interval(rel_errors))\n",
    "print( mean_confidence_interval(abs_errors))  \n",
    "print( mean_confidence_interval(n_abs_errors))  "
   ]
  },
  {
   "cell_type": "code",
   "execution_count": null,
   "metadata": {},
   "outputs": [],
   "source": []
  },
  {
   "cell_type": "code",
   "execution_count": 51,
   "metadata": {},
   "outputs": [
    {
     "name": "stdout",
     "output_type": "stream",
     "text": [
      "(712.9617760401354, 679.548787553262, 746.3747645270089, 15.963977297107515)\n",
      "(554.0572905529827, 542.3732343320831, 565.7413467738824, 5.582380286691423)\n",
      "(0.662969958381663, 0.648989132935313, 0.6769507838280129, 0.006679725164602846)\n"
     ]
    }
   ],
   "source": [
    "rel_errors = []\n",
    "abs_errors = []\n",
    "n_abs_errors = []\n",
    "for rv in range(20):\n",
    "    X_train = X_train.sample(frac=1, random_state=rv)\n",
    "    y_train = X_train['daily_case']\n",
    "    reg = MLPRegressor((100,50), max_iter=1000, random_state=rv)    \n",
    "    reg = reg.fit(X_train[features_ranked],y_train)\n",
    "    y_pred= reg.predict(X_test[features_ranked])\n",
    "    yp_l=list(y_pred)\n",
    "    yt_l=list(y_test)\n",
    "    mae= get_mae(yp_l,yt_l)\n",
    "    nmae= get_nmae(yp_l,yt_l) \n",
    "    mre= get_mre(yp_l,yt_l) \n",
    "    rel_errors.append(mre)\n",
    "    abs_errors.append(mae)\n",
    "    n_abs_errors.append(nmae)\n",
    "\n",
    "print (mean_confidence_interval(rel_errors))\n",
    "print( mean_confidence_interval(abs_errors))  \n",
    "print( mean_confidence_interval(n_abs_errors))  "
   ]
  },
  {
   "cell_type": "code",
   "execution_count": 52,
   "metadata": {},
   "outputs": [
    {
     "name": "stdout",
     "output_type": "stream",
     "text": [
      "(520.6245931774934, 497.1371848639706, 544.1120014910161, 11.221757468125743)\n",
      "(609.0172005571033, 605.7587044410088, 612.2756966731977, 1.556836439233237)\n",
      "(0.7287334992092285, 0.724834470947516, 0.732632527470941, 0.0018628683475952119)\n"
     ]
    }
   ],
   "source": [
    "rel_errors = []\n",
    "abs_errors = []\n",
    "n_abs_errors = []\n",
    "for rv in range(20):\n",
    "    X_train = X_train.sample(frac=1, random_state=rv)\n",
    "    y_train = X_train['daily_case']\n",
    "    \n",
    "    reg = DecisionTreeRegressor(random_state=rv)\n",
    "    reg = reg.fit(X_train[features_ranked],y_train)\n",
    "    y_pred= reg.predict(X_test[features_ranked])\n",
    "    yp_l=list(y_pred)\n",
    "    yt_l=list(y_test)\n",
    "    mae= get_mae(yp_l,yt_l)\n",
    "    nmae= get_nmae(yp_l,yt_l) \n",
    "    mre= get_mre(yp_l,yt_l) \n",
    "    rel_errors.append(mre)\n",
    "    abs_errors.append(mae)\n",
    "    n_abs_errors.append(nmae)\n",
    "\n",
    "print (mean_confidence_interval(rel_errors))\n",
    "print( mean_confidence_interval(abs_errors))  \n",
    "print( mean_confidence_interval(n_abs_errors))  "
   ]
  },
  {
   "cell_type": "code",
   "execution_count": 53,
   "metadata": {},
   "outputs": [
    {
     "name": "stdout",
     "output_type": "stream",
     "text": [
      "(1777.6717948834776, 1777.671794883477, 1777.671794883478, 2.1348668191746527e-13)\n",
      "(826.0465350590342, 826.0465350590341, 826.0465350590343, 5.4083851761533245e-14)\n",
      "(0.9884249270013623, 0.9884249270013621, 0.9884249270013625, 8.878131396436724e-17)\n"
     ]
    }
   ],
   "source": [
    "rel_errors = []\n",
    "abs_errors = []\n",
    "n_abs_errors = []\n",
    "for rv in range(20):\n",
    "    X_train = X_train.sample(frac=1, random_state=rv)\n",
    "    y_train = X_train['daily_case']\n",
    "    \n",
    "    reg = LinearRegression()\n",
    "    reg = reg.fit(X_train[features_ranked],y_train)\n",
    "    y_pred= reg.predict(X_test[features_ranked])\n",
    "    yp_l=list(y_pred)\n",
    "    yt_l=list(y_test)\n",
    "    mae= get_mae(yp_l,yt_l)\n",
    "    nmae= get_nmae(yp_l,yt_l) \n",
    "    mre= get_mre(yp_l,yt_l) \n",
    "    rel_errors.append(mre)\n",
    "    abs_errors.append(mae)\n",
    "    n_abs_errors.append(nmae)\n",
    "\n",
    "print (mean_confidence_interval(rel_errors))\n",
    "print( mean_confidence_interval(abs_errors))  \n",
    "print( mean_confidence_interval(n_abs_errors))  "
   ]
  },
  {
   "cell_type": "code",
   "execution_count": null,
   "metadata": {},
   "outputs": [],
   "source": []
  },
  {
   "cell_type": "code",
   "execution_count": 54,
   "metadata": {},
   "outputs": [
    {
     "name": "stderr",
     "output_type": "stream",
     "text": [
      "D:\\anaconda\\lib\\site-packages\\xgboost\\data.py:114: UserWarning: Use subset (sliced data) of np.ndarray is not recommended because it will generate extra copies and increase memory consumption\n",
      "  \"because it will generate extra copies and increase \" +\n"
     ]
    },
    {
     "name": "stdout",
     "output_type": "stream",
     "text": [
      "(389.8920095441139, 380.00607095607467, 399.7779481321531, 4.723279967670592)\n",
      "(452.1173133037725, 450.61679962639, 453.617826981155, 0.7169118167668266)\n",
      "(0.5409913405985008, 0.5391958665433675, 0.5427868146536342, 0.0008578372768109517)\n"
     ]
    }
   ],
   "source": [
    "rel_errors = []\n",
    "abs_errors = []\n",
    "n_abs_errors = []\n",
    "for rv in range(20):\n",
    "    X_train = X_train.sample(frac=1, random_state=rv)\n",
    "    y_train = X_train['daily_case']\n",
    "    \n",
    "    reg = xg.XGBRegressor(objective ='reg:squarederror',  max_depth=7, learning_rate=0.05, n_estimators=210, gamma=0.1, \n",
    "                        min_child_weight=3, subsample=0.8, colsample_bytree=0.8, reg_alpha=0.05, seed = rv)\n",
    "    reg = reg.fit(X_train[features_ranked],y_train)\n",
    "    y_pred= reg.predict(X_test[features_ranked])\n",
    "    yp_l=list(y_pred)\n",
    "    yt_l=list(y_test)\n",
    "    mae= get_mae(yp_l,yt_l)\n",
    "    nmae= get_nmae(yp_l,yt_l) \n",
    "    mre= get_mre(yp_l,yt_l) \n",
    "    rel_errors.append(mre)\n",
    "    abs_errors.append(mae)\n",
    "    n_abs_errors.append(nmae)\n",
    "\n",
    "print (mean_confidence_interval(rel_errors))\n",
    "print( mean_confidence_interval(abs_errors))  \n",
    "print( mean_confidence_interval(n_abs_errors))  "
   ]
  },
  {
   "cell_type": "markdown",
   "metadata": {},
   "source": [
    "<h2> Local models </h2>"
   ]
  },
  {
   "cell_type": "code",
   "execution_count": 77,
   "metadata": {},
   "outputs": [
    {
     "name": "stdout",
     "output_type": "stream",
     "text": [
      "ak 43.09274902431648 0.5835796375352909 174.89490244999337\t\n",
      "ny 617.6990559961157 0.9387523647357381 100.20873029261239\t\n",
      "oh 235.67357421788975 0.2270166717999195 25.26657136604279\t\n",
      "ok 248.40111196890564 0.3467352205037767 37.70167573583095\t\n",
      "co 88.05821637255 0.2631083678374666 28.48073252846102\t\n",
      "or 94.41220424059725 0.3998822712435292 49.22305517884362\t\n",
      "pa 303.3025745213028 0.41588176953421474 39.392182561789575\t\n",
      "ri 99.30931972033387 1.0438961428206084 2342.638220456637\t\n",
      "ca 1429.762036072012 0.20100986855132066 17.96048367173515\t\n",
      "sc 357.29194759753904 0.4207890090655271 50.6242427333654\t\n",
      "nv 260.71213564126793 0.49231220930559816 69.83591525467098\t\n",
      "sd 130.80167706260198 0.6767937757637219 59.69718211298214\t\n",
      "az 496.18137423696726 0.6927870451574352 86.94305918171014\t\n",
      "tx 2277.3684966154206 0.42691320585161135 61.157724238044345\t\n",
      "ut 146.59579221691777 0.38939912931711823 44.82224708717851\t\n",
      "va 435.85316721497946 0.4282008044515549 34.39864058517594\t\n",
      "ar 253.1730656068792 0.47159688691477497 51.4780666989582\t\n",
      "vt 5.076364931669256 0.7809792202568087 102.5424922312587\t\n",
      "wa 318.4313163687337 0.6046164234849374 85.13957018984037\t\n",
      "wi 268.4068738006356 0.35170151622708307 37.55307471647391\t\n",
      "al 465.25927883391086 0.4239569468056355 54.66372543188511\t\n",
      "tn 412.1853491681443 0.2849732779093918 36.63425941897882\t\n",
      "nm 88.77860022838722 0.688918263541546 100.55938253394108\t\n",
      "nj 589.4519943418078 1.8000366276724589 240.0865052105279\t\n",
      "de 75.17457261638747 0.8251874052292807 215.6621290840617\t\n",
      "id 133.42862693812552 0.4142031051473267 58.048674600990026\t\n",
      "in 212.5998901754431 0.23757716997926293 28.225709225656896\t\n",
      "ks 497.6283845821082 0.8921802149921261 1138.2786577115914\t\n",
      "ky 243.08782252595026 0.3546828790320757 51.86033814627113\t\n",
      "ia 337.29861500011975 0.4604860644296346 40.78825636605148\t\n",
      "la 1113.995814389584 1.4650129068774118 21643.677128664793\t\n",
      "ma 685.4318236572617 10.69872773658577 305.8022255135773\t\n",
      "md 196.5137677002731 0.33365855628548263 35.786040849513576\t\n",
      "me 13.14888583698924 0.5878786514302193 77.7951851527124\t\n",
      "hi 144.9180090420828 0.6532742706630329 63.19814080555799\t\n",
      "mi 439.6202756768949 0.5954493778638695 85.20635840627206\t\n",
      "mn 244.8922541300253 0.3545566152164837 41.37167822937901\t\n",
      "mo 236.68751049306198 0.19113907009049663 18.886391923907954\t\n",
      "ga 636.919726698401 0.2787923574266751 40.824453176731375\t\n",
      "ms 282.3233580164191 0.4191676106350873 63.19981305250003\t\n",
      "mt 40.26554196100758 0.34942616685861366 34.01417716821754\t\n",
      "nc 488.059894042802 0.3413006252047567 41.67284103072396\t\n",
      "fl 2548.0522069932094 0.6517535444110659 83.35788426190743\t\n",
      "nd 109.7026339279969 0.5243911755640387 48.53085895060379\t\n",
      "ne 127.02657146349564 0.47368516394094085 58.850313066143954\t\n",
      "nh 23.263132805905446 1.0526304437061287 124.98729167685087\t\n",
      "wv 53.80656252161369 0.40690619502102615 45.296243425699814\t\n",
      "wy 16.88457979883305 0.48104215951091317 125.7309121845269\t\n",
      "il 637.7139498034915 0.32244688353847406 30.37543684732762\t\n",
      "dc 49.778566108699884 0.9281273979247958 94.44576678788064\t\n",
      "global level 381.50932830625635 0.4565037367471082\n"
     ]
    }
   ],
   "source": [
    "lr_statewise_abs_error_list = []\n",
    "lr_statewise_n_abs_error_list = []\n",
    "#feature_importance_list = []\n",
    "\n",
    "for state in states:\n",
    "    X_train_state = X_train[X_train['state_code'] ==state][features_ranked]\n",
    "    y_train_state =  X_train[X_train['state_code'] ==state]['daily_case']\n",
    "    X_test_state = X_test[X_test['state_code'] ==state][features_ranked]\n",
    "    y_test_state =  X_test[X_test['state_code'] ==state]['daily_case']\n",
    "    \n",
    "    reg = LinearRegression()\n",
    "    reg = reg.fit(X_train_state,y_train_state)\n",
    "    \n",
    "    y_pred= reg.predict(X_test_state)\n",
    "    yp_l=list(y_pred)\n",
    "    yt_l=list(y_test_state)\n",
    "    mae= get_mae(yp_l,yt_l)\n",
    "    nmae= get_nmae(yp_l,yt_l) \n",
    "    mre= get_mre(yp_l,yt_l)    \n",
    "    print(state,mae,nmae,mre, end ='\\t') \n",
    "    print ()\n",
    "    \n",
    "    lr_statewise_abs_error_list.append((state,mae,len(y_test_state)))\n",
    "    lr_statewise_n_abs_error_list.append((state,nmae,sum(y_test_state)))\n",
    "    \n",
    "    #importances = reg.feature_importances_\n",
    "    #for i in range(len(features_ranked)):\n",
    "    #    feature_importance_list.append([state,features_ranked[i],importances[i]])\n",
    "     \n",
    "sum_error = 0\n",
    "sum_support = 0\n",
    "for tpl in lr_statewise_abs_error_list: \n",
    "    sum_error += tpl[1] * tpl[2]\n",
    "    sum_support += tpl[2]\n",
    "state_model_global_error = sum_error/sum_support\n",
    "\n",
    "sum_error = 0\n",
    "sum_support = 0\n",
    "for tpl in lr_statewise_n_abs_error_list: \n",
    "    sum_error += tpl[1] * tpl[2]\n",
    "    sum_support += tpl[2]\n",
    "state_model_global_error_norm = sum_error/sum_support\n",
    "\n",
    "print('global level', state_model_global_error,state_model_global_error_norm)"
   ]
  },
  {
   "cell_type": "code",
   "execution_count": 87,
   "metadata": {},
   "outputs": [
    {
     "name": "stdout",
     "output_type": "stream",
     "text": [
      "ak 54.1228925206477 0.7329543534513945 174.8408884517077\t\n"
     ]
    },
    {
     "name": "stderr",
     "output_type": "stream",
     "text": [
      "D:\\anaconda\\lib\\site-packages\\sklearn\\neural_network\\multilayer_perceptron.py:562: ConvergenceWarning: Stochastic Optimizer: Maximum iterations (1000) reached and the optimization hasn't converged yet.\n",
      "  % self.max_iter, ConvergenceWarning)\n"
     ]
    },
    {
     "name": "stdout",
     "output_type": "stream",
     "text": [
      "ny 317.4365495451024 0.48242636708982134 47.926369200202586\t\n",
      "oh 252.1488234615391 0.2428867423531394 22.229346361270903\t\n",
      "ok 333.56662419309527 0.46561505331252834 41.97310147185448\t\n",
      "co 82.0920887021627 0.24528222760514093 30.318318185546005\t\n",
      "or 66.71642800982218 0.2825769928412629 25.966972592808084\t\n",
      "pa 172.3779668879897 0.236360848605498 27.134113674365164\t\n"
     ]
    },
    {
     "name": "stderr",
     "output_type": "stream",
     "text": [
      "D:\\anaconda\\lib\\site-packages\\sklearn\\neural_network\\multilayer_perceptron.py:562: ConvergenceWarning: Stochastic Optimizer: Maximum iterations (1000) reached and the optimization hasn't converged yet.\n",
      "  % self.max_iter, ConvergenceWarning)\n"
     ]
    },
    {
     "name": "stdout",
     "output_type": "stream",
     "text": [
      "ri 91.82078738199935 0.9651799654730135 3047.410936121346\t\n"
     ]
    },
    {
     "name": "stderr",
     "output_type": "stream",
     "text": [
      "D:\\anaconda\\lib\\site-packages\\sklearn\\neural_network\\multilayer_perceptron.py:562: ConvergenceWarning: Stochastic Optimizer: Maximum iterations (1000) reached and the optimization hasn't converged yet.\n",
      "  % self.max_iter, ConvergenceWarning)\n"
     ]
    },
    {
     "name": "stdout",
     "output_type": "stream",
     "text": [
      "ca 1664.5224264141489 0.23401477007561383 22.637595996744693\t\n"
     ]
    },
    {
     "name": "stderr",
     "output_type": "stream",
     "text": [
      "D:\\anaconda\\lib\\site-packages\\sklearn\\neural_network\\multilayer_perceptron.py:562: ConvergenceWarning: Stochastic Optimizer: Maximum iterations (1000) reached and the optimization hasn't converged yet.\n",
      "  % self.max_iter, ConvergenceWarning)\n"
     ]
    },
    {
     "name": "stdout",
     "output_type": "stream",
     "text": [
      "sc 331.6500312908853 0.3905900733610709 47.1580342567207\t\n",
      "nv 160.3788041300892 0.30284912972258304 37.28464469895047\t\n",
      "sd 112.23672805785714 0.5807350537660769 47.63523420249381\t\n"
     ]
    },
    {
     "name": "stderr",
     "output_type": "stream",
     "text": [
      "D:\\anaconda\\lib\\site-packages\\sklearn\\neural_network\\multilayer_perceptron.py:562: ConvergenceWarning: Stochastic Optimizer: Maximum iterations (1000) reached and the optimization hasn't converged yet.\n",
      "  % self.max_iter, ConvergenceWarning)\n"
     ]
    },
    {
     "name": "stdout",
     "output_type": "stream",
     "text": [
      "az 696.9120815579381 0.9730547875955927 142.76222374112444\t\n"
     ]
    },
    {
     "name": "stderr",
     "output_type": "stream",
     "text": [
      "D:\\anaconda\\lib\\site-packages\\sklearn\\neural_network\\multilayer_perceptron.py:562: ConvergenceWarning: Stochastic Optimizer: Maximum iterations (1000) reached and the optimization hasn't converged yet.\n",
      "  % self.max_iter, ConvergenceWarning)\n"
     ]
    },
    {
     "name": "stdout",
     "output_type": "stream",
     "text": [
      "tx 1261.2618036046333 0.23643486804848315 35.228991820308195\t\n",
      "ut 65.32040724624852 0.1735091391347136 20.12781963601892\t\n",
      "va 251.05824196953776 0.2466503613188715 19.346734379689586\t\n",
      "ar 209.94547124954676 0.3910748974256263 36.99993379016572\t\n"
     ]
    },
    {
     "name": "stderr",
     "output_type": "stream",
     "text": [
      "D:\\anaconda\\lib\\site-packages\\sklearn\\neural_network\\multilayer_perceptron.py:562: ConvergenceWarning: Stochastic Optimizer: Maximum iterations (1000) reached and the optimization hasn't converged yet.\n",
      "  % self.max_iter, ConvergenceWarning)\n"
     ]
    },
    {
     "name": "stdout",
     "output_type": "stream",
     "text": [
      "vt 8.160085175215094 1.2553977192638606 176.5063138376628\t\n",
      "wa 137.53257740025936 0.26113780519036583 35.93656796190281\t\n",
      "wi 227.201246101123 0.29770855571232535 26.107768861729014\t\n",
      "al 360.4569473219473 0.3284582034011318 32.08854107421556\t\n",
      "tn 474.0949865334545 0.3277758479904968 30.063033677507722\t\n",
      "nm 68.53766162773266 0.5318494177009777 87.8461236859433\t\n"
     ]
    },
    {
     "name": "stderr",
     "output_type": "stream",
     "text": [
      "D:\\anaconda\\lib\\site-packages\\sklearn\\neural_network\\multilayer_perceptron.py:562: ConvergenceWarning: Stochastic Optimizer: Maximum iterations (1000) reached and the optimization hasn't converged yet.\n",
      "  % self.max_iter, ConvergenceWarning)\n"
     ]
    },
    {
     "name": "stdout",
     "output_type": "stream",
     "text": [
      "nj 200.3270408849623 0.6117478854386064 64.44415802206088\t\n",
      "de 73.8316662250763 0.8104463910546246 255.36551540975813\t\n"
     ]
    },
    {
     "name": "stderr",
     "output_type": "stream",
     "text": [
      "D:\\anaconda\\lib\\site-packages\\sklearn\\neural_network\\multilayer_perceptron.py:562: ConvergenceWarning: Stochastic Optimizer: Maximum iterations (1000) reached and the optimization hasn't converged yet.\n",
      "  % self.max_iter, ConvergenceWarning)\n"
     ]
    },
    {
     "name": "stdout",
     "output_type": "stream",
     "text": [
      "id 139.5736362988995 0.4332790861927757 56.13058137600526\t\n",
      "in 294.3797432247503 0.3289649220272111 29.550863052359837\t\n",
      "ks 458.51330511723614 0.8220521815285414 442.1410231839565\t\n",
      "ky 394.73526519620395 0.5759475684979388 55.14240565386959\t\n",
      "ia 341.0157299855645 0.4655607358767121 37.08779244510914\t\n",
      "la 421.0836844332968 0.5537660237155402 13670.735505340272\t\n"
     ]
    },
    {
     "name": "stderr",
     "output_type": "stream",
     "text": [
      "D:\\anaconda\\lib\\site-packages\\sklearn\\neural_network\\multilayer_perceptron.py:562: ConvergenceWarning: Stochastic Optimizer: Maximum iterations (1000) reached and the optimization hasn't converged yet.\n",
      "  % self.max_iter, ConvergenceWarning)\n"
     ]
    },
    {
     "name": "stdout",
     "output_type": "stream",
     "text": [
      "ma 409.77042359183463 6.396000368238834 891.257239324043\t\n",
      "md 175.30939367227091 0.29765588376071805 35.048093739591394\t\n",
      "me 12.674415769696473 0.566665384636206 113.12608261809085\t\n",
      "hi 151.34430568647542 0.6822433013665309 67.2154926970651\t\n",
      "mi 238.2880747557268 0.322752369979313 97.82553452264958\t\n",
      "mn 200.27994530761106 0.28996662126481987 27.411990240610617\t\n",
      "mo 724.682650459386 0.5852238152785156 56.90095062037738\t\n",
      "ga 732.7751079758024 0.32075015304542176 33.81838263014862\t\n",
      "ms 204.10735243582695 0.3030397195424531 37.001493148344466\t\n"
     ]
    },
    {
     "name": "stderr",
     "output_type": "stream",
     "text": [
      "D:\\anaconda\\lib\\site-packages\\sklearn\\neural_network\\multilayer_perceptron.py:562: ConvergenceWarning: Stochastic Optimizer: Maximum iterations (1000) reached and the optimization hasn't converged yet.\n",
      "  % self.max_iter, ConvergenceWarning)\n"
     ]
    },
    {
     "name": "stdout",
     "output_type": "stream",
     "text": [
      "mt 43.14890105749749 0.3744480855438023 37.129135818990235\t\n",
      "nc 352.8170061842133 0.24672517914979955 22.364270145786598\t\n"
     ]
    },
    {
     "name": "stderr",
     "output_type": "stream",
     "text": [
      "D:\\anaconda\\lib\\site-packages\\sklearn\\neural_network\\multilayer_perceptron.py:562: ConvergenceWarning: Stochastic Optimizer: Maximum iterations (1000) reached and the optimization hasn't converged yet.\n",
      "  % self.max_iter, ConvergenceWarning)\n"
     ]
    },
    {
     "name": "stdout",
     "output_type": "stream",
     "text": [
      "fl 1980.7607211310822 0.506648889329779 63.80880366755684\t\n",
      "nd 133.32741068412955 0.6373203187577894 55.58823613687059\t\n",
      "ne 91.14080825559934 0.3398662831159702 45.92152854853302\t\n"
     ]
    },
    {
     "name": "stderr",
     "output_type": "stream",
     "text": [
      "D:\\anaconda\\lib\\site-packages\\sklearn\\neural_network\\multilayer_perceptron.py:562: ConvergenceWarning: Stochastic Optimizer: Maximum iterations (1000) reached and the optimization hasn't converged yet.\n",
      "  % self.max_iter, ConvergenceWarning)\n"
     ]
    },
    {
     "name": "stdout",
     "output_type": "stream",
     "text": [
      "nh 15.750724794012722 0.7127024793670915 83.91908075439193\t\n"
     ]
    },
    {
     "name": "stderr",
     "output_type": "stream",
     "text": [
      "D:\\anaconda\\lib\\site-packages\\sklearn\\neural_network\\multilayer_perceptron.py:562: ConvergenceWarning: Stochastic Optimizer: Maximum iterations (1000) reached and the optimization hasn't converged yet.\n",
      "  % self.max_iter, ConvergenceWarning)\n"
     ]
    },
    {
     "name": "stdout",
     "output_type": "stream",
     "text": [
      "wv 53.52347370905966 0.4047653670964935 42.967207272613045\t\n"
     ]
    },
    {
     "name": "stderr",
     "output_type": "stream",
     "text": [
      "D:\\anaconda\\lib\\site-packages\\sklearn\\neural_network\\multilayer_perceptron.py:562: ConvergenceWarning: Stochastic Optimizer: Maximum iterations (1000) reached and the optimization hasn't converged yet.\n",
      "  % self.max_iter, ConvergenceWarning)\n"
     ]
    },
    {
     "name": "stdout",
     "output_type": "stream",
     "text": [
      "wy 20.007324337203748 0.5700092403761752 79.10369841839137\t\n",
      "il 481.80470777162986 0.24361459639231603 19.68716169640231\t\n",
      "dc 41.4273738111945 0.7724184054293568 90.76297879212282\t\n",
      "global level 306.70059789742436 0.3669896346292052\n"
     ]
    }
   ],
   "source": [
    "mlp_statewise_abs_error_list = []\n",
    "mlp_statewise_n_abs_error_list = []\n",
    "#feature_importance_list = []\n",
    "\n",
    "for state in states:\n",
    "    X_train_state = X_train[X_train['state_code'] ==state][features_ranked]\n",
    "    y_train_state =  X_train[X_train['state_code'] ==state]['daily_case']\n",
    "    X_test_state = X_test[X_test['state_code'] ==state][features_ranked]\n",
    "    y_test_state =  X_test[X_test['state_code'] ==state]['daily_case']\n",
    "    \n",
    "    reg = MLPRegressor((100,50), max_iter=1000)\n",
    "    reg = reg.fit(X_train_state,y_train_state)\n",
    "    \n",
    "    y_pred= reg.predict(X_test_state)\n",
    "    yp_l=list(y_pred)\n",
    "    yt_l=list(y_test_state)\n",
    "    mae= get_mae(yp_l,yt_l)\n",
    "    nmae= get_nmae(yp_l,yt_l) \n",
    "    mre= get_mre(yp_l,yt_l)    \n",
    "    print(state,mae,nmae,mre, end ='\\t') \n",
    "    print ()\n",
    "    \n",
    "    mlp_statewise_abs_error_list.append((state,mae,len(y_test_state)))\n",
    "    mlp_statewise_n_abs_error_list.append((state,nmae,sum(y_test_state)))\n",
    "    \n",
    "    #importances = reg.feature_importances_\n",
    "    #for i in range(len(features_ranked)):\n",
    "    #    feature_importance_list.append([state,features_ranked[i],importances[i]])\n",
    "     \n",
    "sum_error = 0\n",
    "sum_support = 0\n",
    "for tpl in mlp_statewise_abs_error_list: \n",
    "    sum_error += tpl[1] * tpl[2]\n",
    "    sum_support += tpl[2]\n",
    "state_model_global_error = sum_error/sum_support\n",
    "\n",
    "sum_error = 0\n",
    "sum_support = 0\n",
    "for tpl in mlp_statewise_n_abs_error_list: \n",
    "    sum_error += tpl[1] * tpl[2]\n",
    "    sum_support += tpl[2]\n",
    "state_model_global_error_norm = sum_error/sum_support\n",
    "\n",
    "print('global level', state_model_global_error,state_model_global_error_norm)"
   ]
  },
  {
   "cell_type": "code",
   "execution_count": 78,
   "metadata": {},
   "outputs": [
    {
     "name": "stdout",
     "output_type": "stream",
     "text": [
      "ak 61.73684210526316 0.8360655737704918 147.8502544727393\t\n",
      "ny 144.3 0.21930091185410333 21.7794495456419\t\n",
      "oh 300.1666666666667 0.28914076547649625 30.49035700126861\t\n",
      "ok 267.3333333333333 0.37316210683044854 37.564205257529146\t\n",
      "co 144.3684210526316 0.43135713162446926 47.788974243108726\t\n",
      "or 83.6 0.3540872511647607 37.93791870154776\t\n",
      "pa 170.53333333333333 0.233831527949175 22.13799130037829\t\n",
      "ri 80.13333333333334 0.8423265592151367 2376.8030226142914\t\n",
      "ca 1933.7894736842106 0.2718709534204003 24.260269686156104\t\n",
      "sc 376.03333333333336 0.4428610685824206 57.21528322623226\t\n",
      "nv 353.1 0.6667715742430919 84.66096149533782\t\n",
      "sd 113.03333333333333 0.5848568471886858 50.93439790579401\t\n",
      "az 928.578947368421 1.2965167548500882 163.09958093057102\t\n",
      "tx 1474.1 0.27633330209016777 36.28802878482114\t\n",
      "ut 191.6 0.5089428014875155 57.17630346244433\t\n",
      "va 396.1290322580645 0.389174114216898 37.86662866873602\t\n",
      "ar 268.36842105263156 0.4999019607843137 57.91751098405612\t\n",
      "vt 5.5 0.8461538461538461 110.78748158159921\t\n",
      "wa 228.43333333333334 0.43373417721518986 50.89073753153029\t\n",
      "wi 196.46666666666667 0.25743612142389166 27.099975810812687\t\n",
      "al 475.6842105263158 0.43345642894825187 51.38498549652899\t\n",
      "tn 735.6333333333333 0.5085960545722714 66.55959283515635\t\n",
      "nm 105.86666666666666 0.8215209518882566 117.65120206911521\t\n",
      "nj 137.3 0.41927931596091206 157.34212951018108\t\n",
      "de 77.43333333333334 0.8499817050859861 296.06237616469457\t\n",
      "id 145.63333333333333 0.45209023178807944 58.68313476068195\t\n",
      "in 204.96666666666667 0.22904715786336885 22.881224304320973\t\n",
      "ks 463.3666666666667 0.830753600669336 1181.289387706967\t\n",
      "ky 329.4 0.4806186469529692 63.200405970201935\t\n",
      "ia 343.80645161290323 0.46937067864535165 39.698049689924275\t\n",
      "la 680.2 0.8945291951604418 18283.637601893075\t\n",
      "ma 415.1 6.479188345473466 1009.1894840536105\t\n",
      "md 158.2 0.26860603316543097 29.08833550823281\t\n",
      "me 15.133333333333333 0.676602086438152 102.809657536385\t\n",
      "hi 138.03333333333333 0.6222389181066867 63.049805101464884\t\n",
      "mi 315.3666666666667 0.42715246738001716 83.09365697097347\t\n",
      "mn 255.76666666666668 0.3703006611650017 39.82199136641082\t\n",
      "mo 407.3333333333333 0.3289455974588818 31.117255294040465\t\n",
      "ga 711.9333333333333 0.3116272962049696 36.522171366500515\t\n",
      "ms 360.96666666666664 0.5359299218054043 64.42386255255023\t\n",
      "mt 47.1 0.40873589817761063 46.13085068871181\t\n",
      "nc 360.0 0.2517482517482518 25.578405061104476\t\n",
      "fl 3586.733333333333 0.9174326006513992 105.56643308481428\t\n",
      "nd 124.6 0.595602294455067 53.38316844864838\t\n",
      "ne 102.1 0.380733374766936 50.19676061338079\t\n",
      "nh 15.433333333333334 0.698340874811463 82.78476378020466\t\n",
      "wv 59.56666666666667 0.45046634736576757 48.63159256640626\t\n",
      "wy 22.933333333333334 0.6533713200379867 148.20168423755428\t\n",
      "il 529.2 0.26757904672015104 23.01885934998739\t\n",
      "dc 30.066666666666666 0.5605966438781852 60.67796210726796\t\n",
      "global level 369.7541782729805 0.4424378423690144\n"
     ]
    }
   ],
   "source": [
    "dt_statewise_abs_error_list = []\n",
    "dt_statewise_n_abs_error_list = []\n",
    "#feature_importance_list = []\n",
    "\n",
    "for state in states:\n",
    "    X_train_state = X_train[X_train['state_code'] ==state][features_ranked]\n",
    "    y_train_state =  X_train[X_train['state_code'] ==state]['daily_case']\n",
    "    X_test_state = X_test[X_test['state_code'] ==state][features_ranked]\n",
    "    y_test_state =  X_test[X_test['state_code'] ==state]['daily_case']\n",
    "    \n",
    "    reg = DecisionTreeRegressor()\n",
    "    reg = reg.fit(X_train_state,y_train_state)\n",
    "    \n",
    "    y_pred= reg.predict(X_test_state)\n",
    "    yp_l=list(y_pred)\n",
    "    yt_l=list(y_test_state)\n",
    "    mae= get_mae(yp_l,yt_l)\n",
    "    nmae= get_nmae(yp_l,yt_l) \n",
    "    mre= get_mre(yp_l,yt_l)    \n",
    "    print(state,mae,nmae,mre, end ='\\t') \n",
    "    print ()\n",
    "    \n",
    "    dt_statewise_abs_error_list.append((state,mae,len(y_test_state)))\n",
    "    dt_statewise_n_abs_error_list.append((state,nmae,sum(y_test_state)))\n",
    "    \n",
    "    #importances = reg.feature_importances_\n",
    "    #for i in range(len(features_ranked)):\n",
    "    #    feature_importance_list.append([state,features_ranked[i],importances[i]])\n",
    "     \n",
    "sum_error = 0\n",
    "sum_support = 0\n",
    "for tpl in dt_statewise_abs_error_list: \n",
    "    sum_error += tpl[1] * tpl[2]\n",
    "    sum_support += tpl[2]\n",
    "state_model_global_error = sum_error/sum_support\n",
    "\n",
    "sum_error = 0\n",
    "sum_support = 0\n",
    "for tpl in dt_statewise_n_abs_error_list: \n",
    "    sum_error += tpl[1] * tpl[2]\n",
    "    sum_support += tpl[2]\n",
    "state_model_global_error_norm = sum_error/sum_support\n",
    "\n",
    "print('global level', state_model_global_error,state_model_global_error_norm)"
   ]
  },
  {
   "cell_type": "code",
   "execution_count": 79,
   "metadata": {},
   "outputs": [
    {
     "name": "stderr",
     "output_type": "stream",
     "text": [
      "D:\\anaconda\\lib\\site-packages\\xgboost\\data.py:114: UserWarning: Use subset (sliced data) of np.ndarray is not recommended because it will generate extra copies and increase memory consumption\n",
      "  \"because it will generate extra copies and increase \" +\n"
     ]
    },
    {
     "name": "stdout",
     "output_type": "stream",
     "text": [
      "ak 36.511437466270046 0.4944528238482757 107.55832112346417\t\n",
      "ny 155.39386800130208 0.23616089361900014 25.722262240603055\t\n",
      "oh 215.44942830403645 0.20753541128696038 22.768078228023132\t\n",
      "ok 206.20919392903645 0.2878408625475104 29.507962638707447\t\n",
      "co 79.86401849043996 0.23862499627588604 26.30214949289976\t\n",
      "or 55.127403767903644 0.23349175674673295 26.635590826339012\t\n",
      "pa 171.51842854817707 0.23518226867979855 22.08254297465473\t\n",
      "ri 74.47188924153646 0.7828159345641533 2400.278988188599\t\n",
      "ca 1852.259097450658 0.2604086192723556 22.12826107468291\t\n",
      "sc 302.721592203776 0.35652054199007893 44.79979016514933\t\n",
      "nv 270.3428944905599 0.5104983215658587 67.84387822313136\t\n",
      "sd 128.03525988260904 0.6624797855257454 58.87560306234039\t\n",
      "az 720.4826274671053 1.0059648678626543 143.73445826090935\t\n",
      "tx 1575.9108479817708 0.2954186611644523 36.94958858467\t\n",
      "ut 114.87360127766927 0.30513618189570374 36.25930169365771\t\n",
      "va 268.22507599861393 0.2635157937490344 22.255992530029637\t\n",
      "ar 216.32290328176398 0.40295442768171724 48.08039325170304\t\n",
      "vt 5.020958669980367 0.7724551799969795 114.98397220305205\t\n",
      "wa 214.02067057291666 0.4063683618473101 59.506019940774316\t\n",
      "wi 206.53148295084637 0.27062434979364014 28.35017409569083\t\n",
      "al 477.13004021895557 0.43477390840535973 54.755370686269025\t\n",
      "tn 388.78517659505206 0.2687950612521101 35.62322750988964\t\n",
      "nm 79.45464680989583 0.6165647708993469 88.36418625623917\t\n",
      "nj 129.8926996866862 0.39665930278914757 153.1512887023016\t\n",
      "de 49.276420783996585 0.5409047286937056 153.79092462061894\t\n",
      "id 127.21002451578777 0.39489866881970537 56.93419826320203\t\n",
      "in 211.94964599609375 0.23685053191845387 25.395397068878133\t\n",
      "ks 452.2796096801758 0.8108760109009308 801.3518706587048\t\n",
      "ky 274.8732187906901 0.40106009258891606 53.79356719379993\t\n",
      "ia 321.8633757560484 0.4394136014637557 33.53065368002374\t\n",
      "la 450.77669321695964 0.592815219906575 11101.33028223967\t\n",
      "ma 405.65592193603516 6.3317781779818185 994.1600866192475\t\n",
      "md 133.246869913737 0.22623838912287675 24.061827164159816\t\n",
      "me 8.387934239705404 0.37501941459189586 82.14981951709784\t\n",
      "hi 150.0311825434367 0.6763238882499024 66.28166814325344\t\n",
      "mi 269.02581380208335 0.36438549885152827 80.64380011200718\t\n",
      "mn 198.66788126627605 0.2876326643496106 28.637254319379778\t\n",
      "mo 280.2258585611979 0.22629884402907044 21.244116998356507\t\n",
      "ga 550.5973795572917 0.2410073593346477 34.18667469992266\t\n",
      "ms 182.7606465657552 0.2713461049674679 37.66072203055242\t\n",
      "mt 39.053952089945476 0.3389119359844849 32.97694845110427\t\n",
      "nc 316.34340413411456 0.22121916373015005 24.010287023606157\t\n",
      "fl 1825.5176595052083 0.46694004216322704 55.89274053415766\t\n",
      "nd 120.46985244750977 0.5758597153322647 48.80829951368771\t\n",
      "ne 89.93570912679037 0.33537243925465643 39.941986081188915\t\n",
      "nh 13.107832018534342 0.5931145709744047 78.33964212689985\t\n",
      "wv 47.771310043334964 0.36126526375095763 34.66697803758089\t\n",
      "wy 14.976427936553955 0.4266788585912808 139.87218492181916\t\n",
      "il 483.7568806966146 0.244601672299913 20.433148013434725\t\n",
      "dc 26.036000442504882 0.48544438363899717 62.19844899544462\t\n",
      "global level 287.62701918471157 0.34416670656569054\n"
     ]
    }
   ],
   "source": [
    "xgb_statewise_abs_error_list = []\n",
    "xgb_statewise_n_abs_error_list = []\n",
    "feature_importance_list_xgb = []\n",
    "\n",
    "for state in states:\n",
    "    X_train_state = X_train[X_train['state_code'] ==state][features_ranked]\n",
    "    y_train_state =  X_train[X_train['state_code'] ==state]['daily_case']\n",
    "    X_test_state = X_test[X_test['state_code'] ==state][features_ranked]\n",
    "    y_test_state =  X_test[X_test['state_code'] ==state]['daily_case']\n",
    "    \n",
    "    reg = xg.XGBRegressor(objective ='reg:squarederror',  max_depth=7, learning_rate=0.05, n_estimators=210, gamma=0.1, \n",
    "                        min_child_weight=3, subsample=0.8, colsample_bytree=0.8, reg_alpha=0.05)\n",
    "    reg = reg.fit(X_train_state,y_train_state)\n",
    "    \n",
    "    y_pred= reg.predict(X_test_state)\n",
    "    yp_l=list(y_pred)\n",
    "    yt_l=list(y_test_state)\n",
    "    mae= get_mae(yp_l,yt_l)\n",
    "    nmae= get_nmae(yp_l,yt_l) \n",
    "    mre= get_mre(yp_l,yt_l)    \n",
    "    print(state,mae,nmae,mre, end ='\\t') \n",
    "    print ()\n",
    "    \n",
    "    xgb_statewise_abs_error_list.append((state,mae,len(y_test_state)))\n",
    "    xgb_statewise_n_abs_error_list.append((state,nmae,sum(y_test_state)))\n",
    "    \n",
    "    importances = reg.feature_importances_\n",
    "    for i in range(len(features_ranked)):\n",
    "        feature_importance_list_xgb.append([state,features_ranked[i],importances[i]])\n",
    "\n",
    "sum_error = 0\n",
    "sum_support = 0\n",
    "for tpl in xgb_statewise_abs_error_list: \n",
    "    sum_error += tpl[1] * tpl[2]\n",
    "    sum_support += tpl[2]\n",
    "state_model_global_error = sum_error/sum_support\n",
    "\n",
    "sum_error = 0\n",
    "sum_support = 0\n",
    "for tpl in xgb_statewise_n_abs_error_list: \n",
    "    sum_error += tpl[1] * tpl[2]\n",
    "    sum_support += tpl[2]\n",
    "state_model_global_error_norm = sum_error/sum_support\n",
    "\n",
    "print('global level', state_model_global_error,state_model_global_error_norm)"
   ]
  },
  {
   "cell_type": "code",
   "execution_count": 80,
   "metadata": {},
   "outputs": [
    {
     "name": "stdout",
     "output_type": "stream",
     "text": [
      "ak 39.81250263519552 0.5391571989085637 138.69027565357447\t\n",
      "ny 152.60130379396205 0.23191687506681163 25.288849150735466\t\n",
      "oh 210.50068578375013 0.20276844893117466 22.276143532536675\t\n",
      "ok 220.81352380259418 0.3082265826390203 32.33873753174617\t\n",
      "co 74.42494435793087 0.22237363465964563 25.732671841522176\t\n",
      "or 67.49647449018471 0.28588087458782174 33.28857394337753\t\n",
      "pa 155.78787993781225 0.21361288898644212 20.292599394168807\t\n",
      "ri 72.52333010114336 0.7623335329482483 2417.0131823774136\t\n",
      "ca 1781.1590225977404 0.25041267845171533 21.33734903643943\t\n",
      "sc 316.0442458480617 0.3722108654434833 46.332164686949184\t\n",
      "nv 289.1345912851964 0.5459833661834136 76.6173373979013\t\n",
      "sd 118.36988063473306 0.612469199558812 52.62457972951092\t\n",
      "az 991.2332311265219 1.3839970158292119 200.93762792841105\t\n",
      "tx 1606.43161089895 0.3011400526570344 36.58726588499464\t\n",
      "ut 117.63027146638974 0.31245866336034106 37.32105782141974\t\n",
      "va 261.409300227609 0.2568196839404157 22.998964740820036\t\n",
      "ar 218.44071197897992 0.406899365451041 48.99713481435503\t\n",
      "vt 4.652329404717465 0.7157429853411484 108.37567516134625\t\n",
      "wa 240.62060511813695 0.45687456668000687 64.64467392434\t\n",
      "wi 208.72087749499968 0.2734931786350728 28.674386765261563\t\n",
      "al 465.47054476141403 0.4241494580819561 53.82523413694811\t\n",
      "tn 496.4041096377344 0.3431997439420177 46.88296662758296\t\n",
      "nm 86.41542948146157 0.6705801563486412 96.07272204074579\t\n",
      "nj 148.94418934660462 0.4548377117669115 133.25294053960235\t\n",
      "de 63.566676845985306 0.6977681322281593 194.11778607148983\t\n",
      "id 136.48561165610042 0.4236929169787885 62.845227183345074\t\n",
      "in 182.77010635278157 0.2042428365709397 22.882751753777065\t\n",
      "ks 449.60422250779936 0.8060794044841918 804.517723372293\t\n",
      "ky 271.140033421652 0.3956131026044239 50.048442730167906\t\n",
      "ia 307.49263495549246 0.4197944106936305 33.41527079171666\t\n",
      "la 639.3485433986531 0.8408055541802381 12652.873582944634\t\n",
      "ma 395.60729863455447 6.17493182051854 1083.440589818023\t\n",
      "md 139.40791819441577 0.23669916496872903 24.48474366289342\t\n",
      "me 10.363483277858474 0.46334500497131775 89.74092900012886\t\n",
      "hi 150.9859404085067 0.6806278305417282 67.02289839365149\t\n",
      "mi 340.73879439076455 0.4615180744829535 93.83595486704486\t\n",
      "mn 178.8433260773877 0.2589305430395073 26.779824577719886\t\n",
      "mo 291.65494807847523 0.2355285052721273 22.53867342478654\t\n",
      "ga 640.045226854879 0.280160450641936 39.05073875139396\t\n",
      "ms 229.11809464784284 0.3401733564008356 49.03585138441308\t\n",
      "mt 42.57172157525897 0.3694392962851516 39.70122892580197\t\n",
      "nc 342.0202741915743 0.2391750169171848 25.818608879188254\t\n",
      "fl 2039.7405178142374 0.521735036870787 62.192547630182496\t\n",
      "nd 116.7850797960618 0.5582460793310793 47.33178391519811\t\n",
      "ne 84.35629748317764 0.3145666779981764 40.777416986824036\t\n",
      "nh 14.973141144158381 0.677517698830696 87.90422149915919\t\n",
      "wv 45.90131114468171 0.34712360331244047 31.42035981760144\t\n",
      "wy 14.720767144951633 0.4193950753547474 149.3323474030222\t\n",
      "il 470.3438129022566 0.23781963168387543 20.128403678692237\t\n",
      "dc 20.077395948384865 0.37434548070326035 42.50996517844288\t\n",
      "global level 306.54881243380146 0.3668080122514894\n"
     ]
    }
   ],
   "source": [
    "gdbt_statewise_abs_error_list = []\n",
    "gdbt_statewise_n_abs_error_list = []\n",
    "feature_importance_list_gdbt = []\n",
    "\n",
    "for state in states:\n",
    "    X_train_state = X_train[X_train['state_code'] ==state][features_ranked]\n",
    "    y_train_state =  X_train[X_train['state_code'] ==state]['daily_case']\n",
    "    X_test_state = X_test[X_test['state_code'] ==state][features_ranked]\n",
    "    y_test_state =  X_test[X_test['state_code'] ==state]['daily_case']\n",
    "    \n",
    "    reg = GradientBoostingRegressor() \n",
    "    reg = reg.fit(X_train_state,y_train_state)\n",
    "    \n",
    "    y_pred= reg.predict(X_test_state)\n",
    "    yp_l=list(y_pred)\n",
    "    yt_l=list(y_test_state)\n",
    "    mae= get_mae(yp_l,yt_l)\n",
    "    nmae= get_nmae(yp_l,yt_l) \n",
    "    mre= get_mre(yp_l,yt_l)    \n",
    "    print(state,mae,nmae,mre, end ='\\t') \n",
    "    print ()\n",
    "    \n",
    "    gdbt_statewise_abs_error_list.append((state,mae,len(y_test_state)))\n",
    "    gdbt_statewise_n_abs_error_list.append((state,nmae,sum(y_test_state)))\n",
    "    \n",
    "    importances = reg.feature_importances_\n",
    "    for i in range(len(features_ranked)):\n",
    "        feature_importance_list_gdbt.append([state,features_ranked[i],importances[i]])\n",
    "\n",
    "sum_error = 0\n",
    "sum_support = 0\n",
    "for tpl in gdbt_statewise_abs_error_list: \n",
    "    sum_error += tpl[1] * tpl[2]\n",
    "    sum_support += tpl[2]\n",
    "state_model_global_error = sum_error/sum_support\n",
    "\n",
    "sum_error = 0\n",
    "sum_support = 0\n",
    "for tpl in gdbt_statewise_n_abs_error_list: \n",
    "    sum_error += tpl[1] * tpl[2]\n",
    "    sum_support += tpl[2]\n",
    "state_model_global_error_norm = sum_error/sum_support\n",
    "\n",
    "print('global level', state_model_global_error,state_model_global_error_norm)"
   ]
  },
  {
   "cell_type": "code",
   "execution_count": 81,
   "metadata": {},
   "outputs": [
    {
     "data": {
      "text/html": [
       "<div>\n",
       "<style scoped>\n",
       "    .dataframe tbody tr th:only-of-type {\n",
       "        vertical-align: middle;\n",
       "    }\n",
       "\n",
       "    .dataframe tbody tr th {\n",
       "        vertical-align: top;\n",
       "    }\n",
       "\n",
       "    .dataframe thead th {\n",
       "        text-align: right;\n",
       "    }\n",
       "</style>\n",
       "<table border=\"1\" class=\"dataframe\">\n",
       "  <thead>\n",
       "    <tr style=\"text-align: right;\">\n",
       "      <th></th>\n",
       "      <th>state</th>\n",
       "      <th>feature</th>\n",
       "      <th>importance_score</th>\n",
       "    </tr>\n",
       "  </thead>\n",
       "  <tbody>\n",
       "    <tr>\n",
       "      <th>0</th>\n",
       "      <td>ak</td>\n",
       "      <td>pct_cmnty_cli_weighted</td>\n",
       "      <td>0.264345</td>\n",
       "    </tr>\n",
       "    <tr>\n",
       "      <th>1</th>\n",
       "      <td>ak</td>\n",
       "      <td>pct_self_anosmia_ageusia_weighted</td>\n",
       "      <td>0.019148</td>\n",
       "    </tr>\n",
       "    <tr>\n",
       "      <th>2</th>\n",
       "      <td>ak</td>\n",
       "      <td>pct_hh_fever_weighted</td>\n",
       "      <td>0.006540</td>\n",
       "    </tr>\n",
       "    <tr>\n",
       "      <th>3</th>\n",
       "      <td>ak</td>\n",
       "      <td>pct_hh_cli_weighted</td>\n",
       "      <td>0.012589</td>\n",
       "    </tr>\n",
       "    <tr>\n",
       "      <th>4</th>\n",
       "      <td>ak</td>\n",
       "      <td>pct_hh_sore_throat_weighted</td>\n",
       "      <td>0.016368</td>\n",
       "    </tr>\n",
       "  </tbody>\n",
       "</table>\n",
       "</div>"
      ],
      "text/plain": [
       "  state                            feature  importance_score\n",
       "0    ak             pct_cmnty_cli_weighted          0.264345\n",
       "1    ak  pct_self_anosmia_ageusia_weighted          0.019148\n",
       "2    ak              pct_hh_fever_weighted          0.006540\n",
       "3    ak                pct_hh_cli_weighted          0.012589\n",
       "4    ak        pct_hh_sore_throat_weighted          0.016368"
      ]
     },
     "execution_count": 81,
     "metadata": {},
     "output_type": "execute_result"
    }
   ],
   "source": [
    "statewise_feature_importance = pd.DataFrame(feature_importance_list_xgb , columns =[ 'state','feature','importance_score'])\n",
    "statewise_feature_importance.head()"
   ]
  },
  {
   "cell_type": "code",
   "execution_count": 82,
   "metadata": {},
   "outputs": [
    {
     "data": {
      "text/html": [
       "<div>\n",
       "<style scoped>\n",
       "    .dataframe tbody tr th:only-of-type {\n",
       "        vertical-align: middle;\n",
       "    }\n",
       "\n",
       "    .dataframe tbody tr th {\n",
       "        vertical-align: top;\n",
       "    }\n",
       "\n",
       "    .dataframe thead th {\n",
       "        text-align: right;\n",
       "    }\n",
       "</style>\n",
       "<table border=\"1\" class=\"dataframe\">\n",
       "  <thead>\n",
       "    <tr style=\"text-align: right;\">\n",
       "      <th></th>\n",
       "      <th>state</th>\n",
       "      <th>feature</th>\n",
       "      <th>importance_score</th>\n",
       "    </tr>\n",
       "  </thead>\n",
       "  <tbody>\n",
       "    <tr>\n",
       "      <th>0</th>\n",
       "      <td>ak</td>\n",
       "      <td>pct_cmnty_cli_weighted</td>\n",
       "      <td>0.264345</td>\n",
       "    </tr>\n",
       "    <tr>\n",
       "      <th>26</th>\n",
       "      <td>ak</td>\n",
       "      <td>pct_worked_outside_home_weighted</td>\n",
       "      <td>0.086642</td>\n",
       "    </tr>\n",
       "    <tr>\n",
       "      <th>10</th>\n",
       "      <td>ak</td>\n",
       "      <td>pct_avoid_contact_all_or_most_time_weighted</td>\n",
       "      <td>0.080385</td>\n",
       "    </tr>\n",
       "    <tr>\n",
       "      <th>8</th>\n",
       "      <td>ak</td>\n",
       "      <td>pct_self_runny_nose_weighted</td>\n",
       "      <td>0.047844</td>\n",
       "    </tr>\n",
       "    <tr>\n",
       "      <th>11</th>\n",
       "      <td>ak</td>\n",
       "      <td>pct_self_none_of_above_weighted</td>\n",
       "      <td>0.040837</td>\n",
       "    </tr>\n",
       "  </tbody>\n",
       "</table>\n",
       "</div>"
      ],
      "text/plain": [
       "   state                                      feature  importance_score\n",
       "0     ak                       pct_cmnty_cli_weighted          0.264345\n",
       "26    ak             pct_worked_outside_home_weighted          0.086642\n",
       "10    ak  pct_avoid_contact_all_or_most_time_weighted          0.080385\n",
       "8     ak                 pct_self_runny_nose_weighted          0.047844\n",
       "11    ak              pct_self_none_of_above_weighted          0.040837"
      ]
     },
     "execution_count": 82,
     "metadata": {},
     "output_type": "execute_result"
    }
   ],
   "source": [
    "statewise_feature_importance = statewise_feature_importance.sort_values([\"state\",\"importance_score\"], ascending = [True, False])\n",
    "statewise_feature_importance.head()"
   ]
  },
  {
   "cell_type": "code",
   "execution_count": 83,
   "metadata": {},
   "outputs": [],
   "source": [
    "ranking = [i for i in range(1,36)]* statewise_feature_importance['state'].nunique()\n",
    "statewise_feature_importance['ranking'] = ranking"
   ]
  },
  {
   "cell_type": "code",
   "execution_count": 84,
   "metadata": {},
   "outputs": [
    {
     "data": {
      "text/html": [
       "<div>\n",
       "<style scoped>\n",
       "    .dataframe tbody tr th:only-of-type {\n",
       "        vertical-align: middle;\n",
       "    }\n",
       "\n",
       "    .dataframe tbody tr th {\n",
       "        vertical-align: top;\n",
       "    }\n",
       "\n",
       "    .dataframe thead th {\n",
       "        text-align: right;\n",
       "    }\n",
       "</style>\n",
       "<table border=\"1\" class=\"dataframe\">\n",
       "  <thead>\n",
       "    <tr style=\"text-align: right;\">\n",
       "      <th></th>\n",
       "      <th>state</th>\n",
       "      <th>feature</th>\n",
       "      <th>importance_score</th>\n",
       "      <th>ranking</th>\n",
       "    </tr>\n",
       "  </thead>\n",
       "  <tbody>\n",
       "    <tr>\n",
       "      <th>0</th>\n",
       "      <td>ak</td>\n",
       "      <td>pct_cmnty_cli_weighted</td>\n",
       "      <td>0.264345</td>\n",
       "      <td>1</td>\n",
       "    </tr>\n",
       "    <tr>\n",
       "      <th>26</th>\n",
       "      <td>ak</td>\n",
       "      <td>pct_worked_outside_home_weighted</td>\n",
       "      <td>0.086642</td>\n",
       "      <td>2</td>\n",
       "    </tr>\n",
       "    <tr>\n",
       "      <th>10</th>\n",
       "      <td>ak</td>\n",
       "      <td>pct_avoid_contact_all_or_most_time_weighted</td>\n",
       "      <td>0.080385</td>\n",
       "      <td>3</td>\n",
       "    </tr>\n",
       "    <tr>\n",
       "      <th>8</th>\n",
       "      <td>ak</td>\n",
       "      <td>pct_self_runny_nose_weighted</td>\n",
       "      <td>0.047844</td>\n",
       "      <td>4</td>\n",
       "    </tr>\n",
       "    <tr>\n",
       "      <th>11</th>\n",
       "      <td>ak</td>\n",
       "      <td>pct_self_none_of_above_weighted</td>\n",
       "      <td>0.040837</td>\n",
       "      <td>5</td>\n",
       "    </tr>\n",
       "  </tbody>\n",
       "</table>\n",
       "</div>"
      ],
      "text/plain": [
       "   state                                      feature  importance_score  \\\n",
       "0     ak                       pct_cmnty_cli_weighted          0.264345   \n",
       "26    ak             pct_worked_outside_home_weighted          0.086642   \n",
       "10    ak  pct_avoid_contact_all_or_most_time_weighted          0.080385   \n",
       "8     ak                 pct_self_runny_nose_weighted          0.047844   \n",
       "11    ak              pct_self_none_of_above_weighted          0.040837   \n",
       "\n",
       "    ranking  \n",
       "0         1  \n",
       "26        2  \n",
       "10        3  \n",
       "8         4  \n",
       "11        5  "
      ]
     },
     "execution_count": 84,
     "metadata": {},
     "output_type": "execute_result"
    }
   ],
   "source": [
    "statewise_feature_importance.head()"
   ]
  },
  {
   "cell_type": "code",
   "execution_count": 85,
   "metadata": {},
   "outputs": [],
   "source": [
    "statewise_feature_importance.to_csv('statewise_feature_importance.csv')"
   ]
  },
  {
   "cell_type": "code",
   "execution_count": 86,
   "metadata": {},
   "outputs": [
    {
     "name": "stdout",
     "output_type": "stream",
     "text": [
      "pct_cmnty_cli_weighted 45 46\n",
      "pct_self_anosmia_ageusia_weighted 10 29\n",
      "pct_hh_fever_weighted 3 20\n",
      "pct_hh_cli_weighted 5 18\n",
      "pct_hh_sore_throat_weighted 9 27\n",
      "pct_self_fever_weighted 1 11\n",
      "pct_asthma_weighted 1 9\n",
      "pct_autoimmune_disorder_weighted 0 15\n",
      "pct_self_runny_nose_weighted 20 40\n",
      "pct_self_sore_throat_weighted 6 27\n",
      "pct_avoid_contact_all_or_most_time_weighted 37 48\n",
      "pct_self_none_of_above_weighted 8 28\n",
      "pct_self_muscle_joint_aches_weighted 3 13\n",
      "pct_self_persistent_pain_pressure_in_chest_weighted 3 13\n",
      "pct_chronic_lung_disease_weighted 2 20\n",
      "pct_no_above_medical_conditions_weighted 1 12\n",
      "pct_self_nasal_congestion_weighted 5 28\n",
      "pct_self_multiple_symptoms_weighted 6 18\n",
      "pct_cancer_weighted 1 12\n",
      "pct_self_nausea_vomiting_weighted 0 14\n",
      "pct_multiple_medical_conditions_weighted 2 15\n",
      "pct_heart_disease_weighted 4 15\n",
      "pct_self_tiredness_or_exhaustion_weighted 1 16\n",
      "pct_diabetes_weighted 0 16\n",
      "pct_hh_difficulty_breathing_weighted 5 15\n",
      "pct_self_other_weighted 5 23\n",
      "pct_worked_outside_home_weighted 19 35\n",
      "pct_hh_shortness_of_breath_weighted 5 18\n",
      "pct_hh_cough_weighted 15 34\n",
      "pct_self_cough_weighted 13 29\n",
      "pct_self_shortness_of_breath_weighted 2 20\n",
      "pct_high_blood_pressure_weighted 5 16\n",
      "pct_self_diarrhea_weighted 2 22\n",
      "pct_self_difficulty_breathing_weighted 4 18\n",
      "pct_kidney_disease_weighted 2 10\n"
     ]
    }
   ],
   "source": [
    "for feature in features_ranked:\n",
    "    top_5 = sum(statewise_feature_importance[statewise_feature_importance['feature'] == feature]['ranking'] <=5)\n",
    "    top_15 = sum(statewise_feature_importance[statewise_feature_importance['feature'] == feature]['ranking'] <=15)   \n",
    "    print(feature,top_5,top_15)"
   ]
  },
  {
   "cell_type": "code",
   "execution_count": null,
   "metadata": {},
   "outputs": [],
   "source": []
  }
 ],
 "metadata": {
  "kernelspec": {
   "display_name": "Python 3",
   "language": "python",
   "name": "python3"
  },
  "language_info": {
   "codemirror_mode": {
    "name": "ipython",
    "version": 3
   },
   "file_extension": ".py",
   "mimetype": "text/x-python",
   "name": "python",
   "nbconvert_exporter": "python",
   "pygments_lexer": "ipython3",
   "version": "3.7.3"
  }
 },
 "nbformat": 4,
 "nbformat_minor": 2
}
